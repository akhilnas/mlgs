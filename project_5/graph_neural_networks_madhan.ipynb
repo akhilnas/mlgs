{
  "nbformat": 4,
  "nbformat_minor": 0,
  "metadata": {
    "kernelspec": {
      "display_name": "Python 3",
      "language": "python",
      "name": "python3"
    },
    "language_info": {
      "codemirror_mode": {
        "name": "ipython",
        "version": 3
      },
      "file_extension": ".py",
      "mimetype": "text/x-python",
      "name": "python",
      "nbconvert_exporter": "python",
      "pygments_lexer": "ipython3",
      "version": "3.7.6"
    },
    "colab": {
      "name": "graph_neural_networks.ipynb",
      "provenance": []
    },
    "accelerator": "GPU",
    "widgets": {
      "application/vnd.jupyter.widget-state+json": {
        "5c232060fad142c2a606016ff3697a07": {
          "model_module": "@jupyter-widgets/controls",
          "model_name": "HBoxModel",
          "state": {
            "_view_name": "HBoxView",
            "_dom_classes": [],
            "_model_name": "HBoxModel",
            "_view_module": "@jupyter-widgets/controls",
            "_model_module_version": "1.5.0",
            "_view_count": null,
            "_view_module_version": "1.5.0",
            "box_style": "",
            "layout": "IPY_MODEL_584fb556498b49489a98323798ac6ac5",
            "_model_module": "@jupyter-widgets/controls",
            "children": [
              "IPY_MODEL_c0b8fbc90261401892f77dab42cfe4b6",
              "IPY_MODEL_f70046a484b34153a4af5528e265f3b8"
            ]
          }
        },
        "584fb556498b49489a98323798ac6ac5": {
          "model_module": "@jupyter-widgets/base",
          "model_name": "LayoutModel",
          "state": {
            "_view_name": "LayoutView",
            "grid_template_rows": null,
            "right": null,
            "justify_content": null,
            "_view_module": "@jupyter-widgets/base",
            "overflow": null,
            "_model_module_version": "1.2.0",
            "_view_count": null,
            "flex_flow": null,
            "width": null,
            "min_width": null,
            "border": null,
            "align_items": null,
            "bottom": null,
            "_model_module": "@jupyter-widgets/base",
            "top": null,
            "grid_column": null,
            "overflow_y": null,
            "overflow_x": null,
            "grid_auto_flow": null,
            "grid_area": null,
            "grid_template_columns": null,
            "flex": null,
            "_model_name": "LayoutModel",
            "justify_items": null,
            "grid_row": null,
            "max_height": null,
            "align_content": null,
            "visibility": null,
            "align_self": null,
            "height": null,
            "min_height": null,
            "padding": null,
            "grid_auto_rows": null,
            "grid_gap": null,
            "max_width": null,
            "order": null,
            "_view_module_version": "1.2.0",
            "grid_template_areas": null,
            "object_position": null,
            "object_fit": null,
            "grid_auto_columns": null,
            "margin": null,
            "display": null,
            "left": null
          }
        },
        "c0b8fbc90261401892f77dab42cfe4b6": {
          "model_module": "@jupyter-widgets/controls",
          "model_name": "FloatProgressModel",
          "state": {
            "_view_name": "ProgressView",
            "style": "IPY_MODEL_63a0e622939644f9b800bc3ef933cf20",
            "_dom_classes": [],
            "description": "Training...:   0%",
            "_model_name": "FloatProgressModel",
            "bar_style": "danger",
            "max": 300,
            "_view_module": "@jupyter-widgets/controls",
            "_model_module_version": "1.5.0",
            "value": 0,
            "_view_count": null,
            "_view_module_version": "1.5.0",
            "orientation": "horizontal",
            "min": 0,
            "description_tooltip": null,
            "_model_module": "@jupyter-widgets/controls",
            "layout": "IPY_MODEL_de163e3f826d4ad2b4ee0b30d4c007bd"
          }
        },
        "f70046a484b34153a4af5528e265f3b8": {
          "model_module": "@jupyter-widgets/controls",
          "model_name": "HTMLModel",
          "state": {
            "_view_name": "HTMLView",
            "style": "IPY_MODEL_369dbe7ac8b0447e9b6380710522c982",
            "_dom_classes": [],
            "description": "",
            "_model_name": "HTMLModel",
            "placeholder": "​",
            "_view_module": "@jupyter-widgets/controls",
            "_model_module_version": "1.5.0",
            "value": " 0/300 [00:00&lt;?, ?it/s]",
            "_view_count": null,
            "_view_module_version": "1.5.0",
            "description_tooltip": null,
            "_model_module": "@jupyter-widgets/controls",
            "layout": "IPY_MODEL_d100bd1ed28a4b0eb8d46bea6bd00325"
          }
        },
        "63a0e622939644f9b800bc3ef933cf20": {
          "model_module": "@jupyter-widgets/controls",
          "model_name": "ProgressStyleModel",
          "state": {
            "_view_name": "StyleView",
            "_model_name": "ProgressStyleModel",
            "description_width": "initial",
            "_view_module": "@jupyter-widgets/base",
            "_model_module_version": "1.5.0",
            "_view_count": null,
            "_view_module_version": "1.2.0",
            "bar_color": null,
            "_model_module": "@jupyter-widgets/controls"
          }
        },
        "de163e3f826d4ad2b4ee0b30d4c007bd": {
          "model_module": "@jupyter-widgets/base",
          "model_name": "LayoutModel",
          "state": {
            "_view_name": "LayoutView",
            "grid_template_rows": null,
            "right": null,
            "justify_content": null,
            "_view_module": "@jupyter-widgets/base",
            "overflow": null,
            "_model_module_version": "1.2.0",
            "_view_count": null,
            "flex_flow": null,
            "width": null,
            "min_width": null,
            "border": null,
            "align_items": null,
            "bottom": null,
            "_model_module": "@jupyter-widgets/base",
            "top": null,
            "grid_column": null,
            "overflow_y": null,
            "overflow_x": null,
            "grid_auto_flow": null,
            "grid_area": null,
            "grid_template_columns": null,
            "flex": null,
            "_model_name": "LayoutModel",
            "justify_items": null,
            "grid_row": null,
            "max_height": null,
            "align_content": null,
            "visibility": null,
            "align_self": null,
            "height": null,
            "min_height": null,
            "padding": null,
            "grid_auto_rows": null,
            "grid_gap": null,
            "max_width": null,
            "order": null,
            "_view_module_version": "1.2.0",
            "grid_template_areas": null,
            "object_position": null,
            "object_fit": null,
            "grid_auto_columns": null,
            "margin": null,
            "display": null,
            "left": null
          }
        },
        "369dbe7ac8b0447e9b6380710522c982": {
          "model_module": "@jupyter-widgets/controls",
          "model_name": "DescriptionStyleModel",
          "state": {
            "_view_name": "StyleView",
            "_model_name": "DescriptionStyleModel",
            "description_width": "",
            "_view_module": "@jupyter-widgets/base",
            "_model_module_version": "1.5.0",
            "_view_count": null,
            "_view_module_version": "1.2.0",
            "_model_module": "@jupyter-widgets/controls"
          }
        },
        "d100bd1ed28a4b0eb8d46bea6bd00325": {
          "model_module": "@jupyter-widgets/base",
          "model_name": "LayoutModel",
          "state": {
            "_view_name": "LayoutView",
            "grid_template_rows": null,
            "right": null,
            "justify_content": null,
            "_view_module": "@jupyter-widgets/base",
            "overflow": null,
            "_model_module_version": "1.2.0",
            "_view_count": null,
            "flex_flow": null,
            "width": null,
            "min_width": null,
            "border": null,
            "align_items": null,
            "bottom": null,
            "_model_module": "@jupyter-widgets/base",
            "top": null,
            "grid_column": null,
            "overflow_y": null,
            "overflow_x": null,
            "grid_auto_flow": null,
            "grid_area": null,
            "grid_template_columns": null,
            "flex": null,
            "_model_name": "LayoutModel",
            "justify_items": null,
            "grid_row": null,
            "max_height": null,
            "align_content": null,
            "visibility": null,
            "align_self": null,
            "height": null,
            "min_height": null,
            "padding": null,
            "grid_auto_rows": null,
            "grid_gap": null,
            "max_width": null,
            "order": null,
            "_view_module_version": "1.2.0",
            "grid_template_areas": null,
            "object_position": null,
            "object_fit": null,
            "grid_auto_columns": null,
            "margin": null,
            "display": null,
            "left": null
          }
        }
      }
    }
  },
  "cells": [
    {
      "cell_type": "code",
      "metadata": {
        "id": "-wISMrmVman3",
        "colab_type": "code",
        "colab": {}
      },
      "source": [
        "from collections import OrderedDict\n",
        "from itertools import chain\n",
        "from typing import List, Tuple\n",
        "\n",
        "from matplotlib import pyplot as plt\n",
        "import matplotlib.ticker as ticker\n",
        "import numpy as np\n",
        "from sklearn.model_selection import train_test_split\n",
        "from tqdm.notebook import tqdm"
      ],
      "execution_count": 1,
      "outputs": []
    },
    {
      "cell_type": "code",
      "metadata": {
        "id": "dsMkNianmaoB",
        "colab_type": "code",
        "colab": {}
      },
      "source": [
        "%matplotlib inline"
      ],
      "execution_count": 2,
      "outputs": []
    },
    {
      "cell_type": "markdown",
      "metadata": {
        "id": "M_Nj0VeomaoH",
        "colab_type": "text"
      },
      "source": [
        "# Project 5: Graph Neural Networks (80 pt)\n",
        "\n",
        "Given the citation network `Cora ML` we are going to perform semi-supervised node classification (*transductive learning*), i.e. predict the category for each node given a few labels. Each node represents one publication and each edge a citation. The features represent the bag of words of the respective abstract after stemming and stop word removal. These papers are classified into one of the following seven classes:\n",
        "- Case Based\n",
        "- Genetic Algorithms\n",
        "- Neural Networks\n",
        "- Probabilistic Methods\n",
        "- Reinforcement Learning\n",
        "- Rule Learning\n",
        "- Theory"
      ]
    },
    {
      "cell_type": "markdown",
      "metadata": {
        "id": "d1aqmrqImaoI",
        "colab_type": "text"
      },
      "source": [
        "## General remarks\n",
        "\n",
        "Do not add or modify any code outside of the following comment blocks, or where otherwise explicitly stated.\n",
        "\n",
        "``` python\n",
        "##########################################################\n",
        "# YOUR CODE HERE\n",
        "...\n",
        "##########################################################\n",
        "```\n",
        "After you fill in all the missing code, restart the kernel and re-run all the cells in the notebook.\n",
        "\n",
        "The following things are **NOT** allowed:\n",
        "- Below we list the allowed packages / no additional `import` statements\n",
        "- Copying / reusing code from other sources (e.g. code by other students)\n",
        "\n",
        "If you plagiarise even for a single project task, you won't be eligible for the bonus this semester.\n",
        "\n",
        "*For scalability reasons, please do not transform sparse matrices to dense (e.g. using `.to_dense()`)*"
      ]
    },
    {
      "cell_type": "markdown",
      "metadata": {
        "id": "T3RCZm7FmaoK",
        "colab_type": "text"
      },
      "source": [
        "### You are allowed to use the following methods/packages:"
      ]
    },
    {
      "cell_type": "code",
      "metadata": {
        "id": "PB7r4uPMmaoL",
        "colab_type": "code",
        "colab": {}
      },
      "source": [
        "import torch\n",
        "from torch import nn\n",
        "from torch import sparse as sp\n",
        "from torch.nn import functional as F"
      ],
      "execution_count": 3,
      "outputs": []
    },
    {
      "cell_type": "markdown",
      "metadata": {
        "id": "Nc8AtlkbmaoS",
        "colab_type": "text"
      },
      "source": [
        "## Reproducibility\n",
        "For better reproducibility than in the last task - [*still, it might not be perfect*](https://pytorch.org/docs/stable/notes/randomness.html) :-)"
      ]
    },
    {
      "cell_type": "code",
      "metadata": {
        "id": "XS-34ZwMmaoT",
        "colab_type": "code",
        "colab": {}
      },
      "source": [
        "seed = 42\n",
        "torch.manual_seed(seed)\n",
        "np.random.seed(seed)\n",
        "torch.backends.cudnn.deterministic = True\n",
        "torch.backends.cudnn.benchmark = False"
      ],
      "execution_count": 4,
      "outputs": []
    },
    {
      "cell_type": "markdown",
      "metadata": {
        "id": "w4uxoYzMmaoY",
        "colab_type": "text"
      },
      "source": [
        "## Check if a GPU is available (or overwrite it with `cpu`)\n",
        "You are allowed to edit this line if it better fits you needs (only to change the value `use_cuda` - *this will affect the results*):"
      ]
    },
    {
      "cell_type": "code",
      "metadata": {
        "id": "Wl1hAmJsmaoa",
        "colab_type": "code",
        "colab": {}
      },
      "source": [
        "use_cuda = torch.cuda.is_available() # = False"
      ],
      "execution_count": 5,
      "outputs": []
    },
    {
      "cell_type": "markdown",
      "metadata": {
        "id": "FFJEHRsgmaoi",
        "colab_type": "text"
      },
      "source": [
        "## Load data\n",
        "\n",
        "* `N` = number of publications (nodes in the graph)\n",
        "* `D` = number of features (bag of words one hot representation)\n",
        "<!--* `C` = number of categories-->\n",
        "* The graph is stored as a _sparse torch tensor_ `A` (shape `[N, N]`).\n",
        "* The (binary) Features are stored in a _feature tensor_ `X` (shape `[N, D]`).\n",
        "* The labels are stored in a _vector_ `y` (shape `[N]`)."
      ]
    },
    {
      "cell_type": "code",
      "metadata": {
        "id": "5PhGFOVxmaoj",
        "colab_type": "code",
        "colab": {
          "base_uri": "https://localhost:8080/",
          "height": 283
        },
        "outputId": "1c44b758-77f5-4a29-a77f-a3e090a2291c"
      },
      "source": [
        "X = torch.load('./X.pt')\n",
        "N, D = X.shape\n",
        "\n",
        "A_indices = torch.load('./A_indices.pt')\n",
        "A = torch.sparse.FloatTensor(A_indices, torch.ones_like(A_indices[0]).float(), (N, N)).coalesce()\n",
        "del A_indices\n",
        "\n",
        "labels = torch.load('./labels.pt')\n",
        "C = labels.max().item() + 1\n",
        "\n",
        "if use_cuda:\n",
        "    A, X, labels = A.cuda(), X.cuda(), labels.cuda()\n",
        "\n",
        "A, X, labels, N, D, C"
      ],
      "execution_count": 6,
      "outputs": [
        {
          "output_type": "execute_result",
          "data": {
            "text/plain": [
              "(tensor(indices=tensor([[   0,    0,    0,  ..., 2808, 2809, 2809],\n",
              "                        [   0, 1579, 1581,  ..., 2808, 1399, 2809]]),\n",
              "        values=tensor([1., 1., 1.,  ..., 1., 1., 1.]),\n",
              "        device='cuda:0', size=(2810, 2810), nnz=18772, layout=torch.sparse_coo),\n",
              " tensor([[0., 0., 0.,  ..., 0., 0., 0.],\n",
              "         [0., 0., 0.,  ..., 0., 0., 0.],\n",
              "         [0., 0., 0.,  ..., 0., 0., 0.],\n",
              "         ...,\n",
              "         [0., 0., 0.,  ..., 0., 0., 0.],\n",
              "         [0., 0., 0.,  ..., 0., 0., 0.],\n",
              "         [0., 0., 0.,  ..., 0., 0., 0.]], device='cuda:0'),\n",
              " tensor([0, 1, 1,  ..., 4, 6, 3], device='cuda:0'),\n",
              " 2810,\n",
              " 2879,\n",
              " 7)"
            ]
          },
          "metadata": {
            "tags": []
          },
          "execution_count": 6
        }
      ]
    },
    {
      "cell_type": "markdown",
      "metadata": {
        "id": "7oG_WW5Rmaos",
        "colab_type": "text"
      },
      "source": [
        "## 1 - Graph Convolutional Network (35 pt) \n",
        "\n",
        "For the graph convolutional layer we are going to use the following update scheme:\n",
        "\n",
        "$$𝐻^{(𝑙+1)}=\\sigma\\left(𝐷^{−\\frac{1}{2}} 𝐴 𝐷^{−\\frac{1}{2}} 𝐻^{(𝑙)} 𝑊{(𝑙)}\\right)$$\n",
        "\n",
        "We use the ReLU for the activation function, but in the last layer where we directly output the raw logits (i.e. no activation at all). With $𝐻^{(0)}$ we denote the node features.\n",
        "\n",
        "\n",
        "### 1.1 - Implementation (25 pt)\n",
        "\n",
        "In this section your task is to implement a GCN in two steps. First we define the message passing / graph convolution module and then use this building block for a GCN.\n",
        "\n",
        "#### 1.1.1 - Graph Convolution Layer / Message Passing (5 pt)\n",
        "\n",
        "We also denote the normalized adjacency matrix as $\\hat{A} = 𝐷^{−\\frac{1}{2}} 𝐴 𝐷^{−\\frac{1}{2}}$. Here you are supposed to implement:\n",
        "\n",
        "$$Z^{(𝑙+1)}=\\hat{A} 𝐻^{(𝑙)} 𝑊{(𝑙)}$$"
      ]
    },
    {
      "cell_type": "code",
      "metadata": {
        "id": "ZshXAZQGmaot",
        "colab_type": "code",
        "colab": {}
      },
      "source": [
        "class GraphConvolution(nn.Module):\n",
        "    \"\"\"\n",
        "    Graph Convolution Layer: as proposed in [Kipf et al. 2017](https://arxiv.org/abs/1609.02907).\n",
        "    \n",
        "    Parameters\n",
        "    ----------\n",
        "    in_channels: int\n",
        "        Dimensionality of input channels/features.\n",
        "    out_channels: int\n",
        "        Dimensionality of output channels/features.\n",
        "    \"\"\"\n",
        "\n",
        "    def __init__(self, in_channels: int, out_channels: int):\n",
        "        super().__init__()\n",
        "        self._linear = nn.Linear(in_channels, out_channels, bias=False)\n",
        "\n",
        "    def forward(self, arguments: Tuple[torch.tensor, torch.sparse.FloatTensor]) -> torch.tensor:\n",
        "        \"\"\"\n",
        "        Forward method.\n",
        "        \n",
        "        Parameters\n",
        "        ----------\n",
        "        arguments: Tuple[torch.tensor, torch.sparse.FloatTensor]\n",
        "            Tuple of feature matrix `X` and normalized adjacency matrix `A_hat`\n",
        "            \n",
        "        Returns\n",
        "        ---------\n",
        "        X: torch.tensor\n",
        "            The result of the message passing step\n",
        "        \"\"\"\n",
        "        X, A_hat = arguments\n",
        "        ##########################################################\n",
        "        # YOUR CODE HERE\n",
        "        temp1 = sp.mm(A_hat, X)\n",
        "        X_new = self._linear(temp1)\n",
        "        X = X_new\n",
        "        ##########################################################\n",
        "        return X"
      ],
      "execution_count": 7,
      "outputs": []
    },
    {
      "cell_type": "markdown",
      "metadata": {
        "id": "qDX8noipmaoz",
        "colab_type": "text"
      },
      "source": [
        "#### 1.1.2 - Graph Convolution Network (20 pt)\n",
        "This task to two-fold: (1) you need to calculate `A_hat` in `_normalize(...)` and (2) connect the building blocks in `forward(...)`."
      ]
    },
    {
      "cell_type": "code",
      "metadata": {
        "id": "uAo3YFFqmao0",
        "colab_type": "code",
        "colab": {}
      },
      "source": [
        "class GCN(nn.Module):\n",
        "    \"\"\"\n",
        "    Graph Convolution Network: as proposed in [Kipf et al. 2017](https://arxiv.org/abs/1609.02907).\n",
        "    \n",
        "    Parameters\n",
        "    ----------\n",
        "    n_features: int\n",
        "        Dimensionality of input features.\n",
        "    n_classes: int\n",
        "        Number of classes for the semi-supervised node classification.\n",
        "    hidden_dimensions: List[int]\n",
        "        Internal number of features. `len(hidden_dimensions)` defines the number of hidden representations.\n",
        "    activation: nn.Module\n",
        "        The activation for each layer but the last.\n",
        "    dropout: float\n",
        "        The dropout probability.\n",
        "    \"\"\"\n",
        "    \n",
        "    def __init__(self,\n",
        "                 n_features: int,\n",
        "                 n_classes: int,\n",
        "                 hidden_dimensions: List[int] = [80],\n",
        "                 activation: nn.Module = nn.ReLU(),\n",
        "                 dropout: float = 0.5):\n",
        "        super().__init__()\n",
        "        self.n_features = n_features\n",
        "        self.n_classes = n_classes\n",
        "        self.hidden_dimensions = hidden_dimensions\n",
        "        self._layers = nn.ModuleList([\n",
        "            nn.Sequential(OrderedDict([\n",
        "                (f'gcn_{idx}', GraphConvolution(in_channels=in_channels,\n",
        "                                                out_channels=out_channels)),\n",
        "                (f'activation_{idx}', activation),\n",
        "                (f'dropout_{idx}', nn.Dropout(p=dropout))\n",
        "            ]))\n",
        "            for idx, (in_channels, out_channels)\n",
        "            in enumerate(zip([n_features] + hidden_dimensions[:-1], hidden_dimensions))\n",
        "        ] + [\n",
        "            nn.Sequential(OrderedDict([\n",
        "                (f'gcn_{len(hidden_dimensions)}', GraphConvolution(in_channels=hidden_dimensions[-1],\n",
        "                                                    out_channels=n_classes))\n",
        "            ]))\n",
        "        ])\n",
        "        \n",
        "    def _normalize(self, A: torch.sparse.FloatTensor) -> torch.tensor:\n",
        "        \"\"\"\n",
        "        For calculating $\\hat{A} = 𝐷^{−\\frac{1}{2}} 𝐴 𝐷^{−\\frac{1}{2}}$.\n",
        "        \n",
        "        Parameters\n",
        "        ----------\n",
        "        A: torch.sparse.FloatTensor\n",
        "            Sparse adjacency matrix with added self-loops.\n",
        "            \n",
        "        Returns\n",
        "        -------\n",
        "        A_hat: torch.sparse.FloatTensor\n",
        "            Normalized message passing matrix\n",
        "        \"\"\"\n",
        "        ##########################################################\n",
        "        # YOUR CODE HERE\n",
        "\n",
        "        ## Finding indices and values of A\n",
        "        A_values = A._values()\n",
        "        A_indices = A._indices()\n",
        "        \n",
        "        #print(A_values)\n",
        "        #print(A_indices)\n",
        "\n",
        "        ## Finding Row Sum of Matrix\n",
        "        Row_sum = sp.sum(A,dim=1)        \n",
        "        \n",
        "        ## Getting inverse half diagonal entries\n",
        "        values = Row_sum._values()\n",
        "        values = torch.sqrt(values)\n",
        "        values = torch.reciprocal(values)\n",
        "        \n",
        "        #print(values)\n",
        "        \n",
        "        pre = values[A_indices[0]]\n",
        "        #print(pre)\n",
        "        post = values[A_indices[1]]\n",
        "        #print(post)\n",
        "        final_values = pre * A_values * post\n",
        "        A_hat = torch.sparse.FloatTensor(A_indices, final_values, A.size())\n",
        "      \n",
        "        print(A_hat)\n",
        "        ##########################################################\n",
        "        return A_hat\n",
        "\n",
        "    def forward(self, X: torch.Tensor, A: torch.sparse.FloatTensor) -> torch.tensor:\n",
        "        \"\"\"\n",
        "        Forward method.\n",
        "        \n",
        "        Parameters\n",
        "        ----------\n",
        "        X: torch.tensor\n",
        "            Feature matrix `X`A_indices\n",
        "        A: torch.tensor\n",
        "            adjacency matrix `A` (with self-loops)\n",
        "            \n",
        "        Returns\n",
        "        ---------\n",
        "        X: torch.tensor\n",
        "            The result of the last message passing step (i.e. the logits)\n",
        "        \"\"\"\n",
        "        ##########################################################\n",
        "        # YOUR CODE HERE\n",
        "        # Normalise A Matrix\n",
        "        A_hat = self._normalize(A)\n",
        "        \n",
        "        X = sp.mm(A_hat,X)\n",
        "        # Forward Pass\n",
        "        X = self._layers(X)\n",
        "        ##########################################################\n",
        "        return X"
      ],
      "execution_count": 13,
      "outputs": []
    },
    {
      "cell_type": "code",
      "metadata": {
        "id": "moCWR9uwmao5",
        "colab_type": "code",
        "colab": {
          "base_uri": "https://localhost:8080/",
          "height": 425
        },
        "outputId": "d55e4e0f-b09f-448f-ac5d-6d2077d40048"
      },
      "source": [
        "three_layer_gcn = GCN(n_features=D, n_classes=C, hidden_dimensions=[80, 80])\n",
        "if use_cuda:\n",
        "    three_layer_gcn = three_layer_gcn.cuda()\n",
        "    \n",
        "three_layer_gcn"
      ],
      "execution_count": 14,
      "outputs": [
        {
          "output_type": "execute_result",
          "data": {
            "text/plain": [
              "GCN(\n",
              "  (_layers): ModuleList(\n",
              "    (0): Sequential(\n",
              "      (gcn_0): GraphConvolution(\n",
              "        (_linear): Linear(in_features=2879, out_features=80, bias=False)\n",
              "      )\n",
              "      (activation_0): ReLU()\n",
              "      (dropout_0): Dropout(p=0.5, inplace=False)\n",
              "    )\n",
              "    (1): Sequential(\n",
              "      (gcn_1): GraphConvolution(\n",
              "        (_linear): Linear(in_features=80, out_features=80, bias=False)\n",
              "      )\n",
              "      (activation_1): ReLU()\n",
              "      (dropout_1): Dropout(p=0.5, inplace=False)\n",
              "    )\n",
              "    (2): Sequential(\n",
              "      (gcn_2): GraphConvolution(\n",
              "        (_linear): Linear(in_features=80, out_features=7, bias=False)\n",
              "      )\n",
              "    )\n",
              "  )\n",
              ")"
            ]
          },
          "metadata": {
            "tags": []
          },
          "execution_count": 14
        }
      ]
    },
    {
      "cell_type": "markdown",
      "metadata": {
        "id": "us_Gm3JVmao_",
        "colab_type": "text"
      },
      "source": [
        "### 1.2 - Training (10 pt)\n",
        "In the following we provide the `split` method for obtaining a train/validation/test-split. Subsequently, you will fill in the gap in the training loop:\n",
        "- Calculate the train and validation loss (we refer to slide 23 \"How to Perform Semi-Supervised Node Classification?\" for details).\n",
        "- You are given the `optimizer` and are supposed to perform the backward step."
      ]
    },
    {
      "cell_type": "code",
      "metadata": {
        "id": "pcTBjIhemapA",
        "colab_type": "code",
        "colab": {}
      },
      "source": [
        "def split(labels: np.ndarray,\n",
        "          train_size: float = 0.025,\n",
        "          val_size: float = 0.025,\n",
        "          test_size: float = 0.95,\n",
        "          random_state: int = 42) -> List[np.ndarray]:\n",
        "    \"\"\"Split the arrays or matrices into random train, validation and test subsets.\n",
        "\n",
        "    Parameters\n",
        "    ----------\n",
        "    labels: np.ndarray [n_nodes]\n",
        "        The class labels\n",
        "    train_size: float\n",
        "        Proportion of the dataset included in the train split.\n",
        "    val_size: float\n",
        "        Proportion of the dataset included in the validation split.\n",
        "    test_size: float\n",
        "        Proportion of the dataset included in the test split.\n",
        "    random_state: int\n",
        "        Random_state is the seed used by the random number generator;\n",
        "\n",
        "    Returns\n",
        "    -------\n",
        "    split_train: array-like\n",
        "        The indices of the training nodes\n",
        "    split_val: array-like\n",
        "        The indices of the validation nodes\n",
        "    split_test array-like\n",
        "        The indices of the test nodes\n",
        "\n",
        "    \"\"\"\n",
        "    idx = np.arange(labels.shape[0])\n",
        "    idx_train_and_val, idx_test = train_test_split(idx,\n",
        "                                                   random_state=random_state,\n",
        "                                                   train_size=(train_size + val_size),\n",
        "                                                   test_size=test_size,\n",
        "                                                   stratify=labels)\n",
        "\n",
        "    idx_train, idx_val = train_test_split(idx_train_and_val,\n",
        "                                          random_state=random_state,\n",
        "                                          train_size=(train_size / (train_size + val_size)),\n",
        "                                          test_size=(val_size / (train_size + val_size)),\n",
        "                                          stratify=labels[idx_train_and_val])\n",
        "    \n",
        "    return idx_train, idx_val, idx_test\n",
        "\n",
        "idx_train, idx_val, idx_test = split(labels.cpu().numpy())"
      ],
      "execution_count": 15,
      "outputs": []
    },
    {
      "cell_type": "code",
      "metadata": {
        "id": "idR4ubt_mapG",
        "colab_type": "code",
        "colab": {}
      },
      "source": [
        "def train(model: nn.Module, \n",
        "          X: torch.Tensor, \n",
        "          A: torch.sparse.FloatTensor, \n",
        "          labels: torch.Tensor, \n",
        "          idx_train: np.ndarray, \n",
        "          idx_val: np.ndarray,\n",
        "          lr: float = 1e-3,\n",
        "          weight_decay: float = 5e-4, \n",
        "          patience: int = 50, \n",
        "          max_epochs: int = 300, \n",
        "          display_step: int = 10):\n",
        "    \"\"\"\n",
        "    Train a model using either standard or adversarial training.\n",
        "    \n",
        "    Parameters\n",
        "    ----------\n",
        "    model: nn.Module\n",
        "        Model which we want to train.\n",
        "    X: torch.Tensor [n, d]\n",
        "        Dense attribute matrix.\n",
        "    A: torch.sparse.FloatTensor [n, n]\n",
        "        Sparse adjacency matrix.\n",
        "    labels: torch.Tensor [n]\n",
        "        Ground-truth labels of all nodes,\n",
        "    idx_train: np.ndarray [?]\n",
        "        Indices of the training nodes.\n",
        "    idx_val: np.ndarray [?]\n",
        "        Indices of the validation nodes.\n",
        "    lr: float\n",
        "        Learning rate.\n",
        "    weight_decay : float\n",
        "        Weight decay.\n",
        "    patience: int\n",
        "        The number of epochs to wait for the validation loss to improve before stopping early.\n",
        "    max_epochs: int\n",
        "        Maximum number of epochs for training.\n",
        "    display_step : int\n",
        "        How often to print information.\n",
        "    seed: int\n",
        "        Seed\n",
        "        \n",
        "    Returns\n",
        "    -------\n",
        "    trace_train: list\n",
        "        A list of values of the train loss during training.\n",
        "    trace_val: list\n",
        "        A list of values of the validation loss during training.\n",
        "    \"\"\"\n",
        "    trace_train = []\n",
        "    trace_val = []\n",
        "    optimizer = torch.optim.Adam(model.parameters(), lr=lr, weight_decay=weight_decay)\n",
        "\n",
        "    best_loss = np.inf\n",
        "    for it in tqdm(range(max_epochs), desc='Training...'):\n",
        "        logits = model(X, A)     \n",
        "        ##########################################################\n",
        "        # YOUR CODE HERE\n",
        "        ## Softmax Layer\n",
        "        softmax_layer = nn.Softmax(dim = 1)\n",
        "        p_v = softmax_layer(logits)\n",
        "        \n",
        "        ## One-hot Vector Encoding \n",
        "        n_classes = np.unique(labels)\n",
        "        one_hot_encoding = np.eye(n_classes)[labels]\n",
        "        \n",
        "        ## Convert to Tensor\n",
        "        one_hot_encoding = torch.from_numpy(one_hot_encoding)\n",
        "        \n",
        "        ## Training Loss\n",
        "        temp = one_hot_encoding * p_v\n",
        "        temp = torch.from_numpy(temp)\n",
        "        \n",
        "        ## Split into Train and Validation Sets\n",
        "        temp_train = temp[idx_train]\n",
        "        temp_val = temp[idx_val]\n",
        "        \n",
        "        ## Training Loss Calculation\n",
        "        loss_train = - temp_train.sum\n",
        "        loss_train.backward()\n",
        "        opt.step()\n",
        "        \n",
        "        ## Validation Dataset Loss\n",
        "        loss_val = - temp_val.sum\n",
        "        ##########################################################\n",
        "        \n",
        "        trace_train.append(loss_train.detach().item())\n",
        "        trace_val.append(loss_val.detach().item())\n",
        "\n",
        "        if loss_val < best_loss:\n",
        "            best_loss = loss_val\n",
        "            best_epoch = it\n",
        "            best_state = {key: value.cpu() for key, value in model.state_dict().items()}\n",
        "        else:\n",
        "            if it >= best_epoch + patience:\n",
        "                break\n",
        "\n",
        "        if display_step > 0 and it % display_step == 0:\n",
        "            print(f'Epoch {it:4}: loss_train: {loss_train.item():.5f}, loss_val: {loss_val.item():.5f} ')\n",
        "\n",
        "    # restore the best validation state\n",
        "    model.load_state_dict(best_state)\n",
        "    return trace_train, trace_val"
      ],
      "execution_count": 16,
      "outputs": []
    },
    {
      "cell_type": "code",
      "metadata": {
        "id": "mOGsViiSmapM",
        "colab_type": "code",
        "colab": {
          "base_uri": "https://localhost:8080/",
          "height": 1000,
          "referenced_widgets": [
            "5c232060fad142c2a606016ff3697a07",
            "584fb556498b49489a98323798ac6ac5",
            "c0b8fbc90261401892f77dab42cfe4b6",
            "f70046a484b34153a4af5528e265f3b8",
            "63a0e622939644f9b800bc3ef933cf20",
            "de163e3f826d4ad2b4ee0b30d4c007bd",
            "369dbe7ac8b0447e9b6380710522c982",
            "d100bd1ed28a4b0eb8d46bea6bd00325"
          ]
        },
        "outputId": "95ea3e6d-278c-4d9d-e4e9-48d3a06f8bce"
      },
      "source": [
        "trace_train, trace_val = train(three_layer_gcn, X, A, labels, idx_train, idx_val)\n",
        "\n",
        "plt.plot(trace_train, label='train')\n",
        "plt.plot(trace_val, label='validation')\n",
        "plt.xlabel('Epochs')\n",
        "plt.ylabel('Loss')\n",
        "plt.legend()\n",
        "plt.grid(True)"
      ],
      "execution_count": 17,
      "outputs": [
        {
          "output_type": "display_data",
          "data": {
            "application/vnd.jupyter.widget-view+json": {
              "model_id": "5c232060fad142c2a606016ff3697a07",
              "version_minor": 0,
              "version_major": 2
            },
            "text/plain": [
              "HBox(children=(FloatProgress(value=0.0, description='Training...', max=300.0, style=ProgressStyle(description_…"
            ]
          },
          "metadata": {
            "tags": []
          }
        },
        {
          "output_type": "stream",
          "text": [
            "tensor([0.5000, 0.3536, 0.3536,  ..., 0.5774, 0.5000, 0.7071], device='cuda:0')\n",
            "tensor([1., 1., 1.,  ..., 1., 1., 1.], device='cuda:0')\n",
            "tensor([[   0,    0,    0,  ..., 2808, 2809, 2809],\n",
            "        [   0, 1579, 1581,  ..., 2808, 1399, 2809]], device='cuda:0')\n",
            "tensor([0.5000, 0.5000, 0.5000,  ..., 0.5000, 0.7071, 0.7071], device='cuda:0')\n",
            "tensor([0.5000, 0.4472, 0.2294,  ..., 0.5000, 0.2357, 0.7071], device='cuda:0')\n",
            "tensor(indices=tensor([[   0,    0,    0,  ..., 2808, 2809, 2809],\n",
            "                       [   0, 1579, 1581,  ..., 2808, 1399, 2809]]),\n",
            "       values=tensor([0.2500, 0.2236, 0.1147,  ..., 0.2500, 0.1667, 0.5000]),\n",
            "       device='cuda:0', size=(2810, 2810), nnz=18772, layout=torch.sparse_coo)\n",
            "tensor(indices=tensor([[   0,    0,    0,  ..., 2808, 2809, 2809],\n",
            "                       [   0, 1579, 1581,  ..., 2808, 1399, 2809]]),\n",
            "       values=tensor([0.2500, 0.2236, 0.1147,  ..., 0.2500, 0.1667, 0.5000]),\n",
            "       device='cuda:0', size=(2810, 2810), nnz=18772, layout=torch.sparse_coo)\n"
          ],
          "name": "stdout"
        },
        {
          "output_type": "error",
          "ename": "TypeError",
          "evalue": "ignored",
          "traceback": [
            "\u001b[0;31m---------------------------------------------------------------------------\u001b[0m",
            "\u001b[0;31mTypeError\u001b[0m                                 Traceback (most recent call last)",
            "\u001b[0;32m<ipython-input-17-107f19c0deba>\u001b[0m in \u001b[0;36m<module>\u001b[0;34m()\u001b[0m\n\u001b[0;32m----> 1\u001b[0;31m \u001b[0mtrace_train\u001b[0m\u001b[0;34m,\u001b[0m \u001b[0mtrace_val\u001b[0m \u001b[0;34m=\u001b[0m \u001b[0mtrain\u001b[0m\u001b[0;34m(\u001b[0m\u001b[0mthree_layer_gcn\u001b[0m\u001b[0;34m,\u001b[0m \u001b[0mX\u001b[0m\u001b[0;34m,\u001b[0m \u001b[0mA\u001b[0m\u001b[0;34m,\u001b[0m \u001b[0mlabels\u001b[0m\u001b[0;34m,\u001b[0m \u001b[0midx_train\u001b[0m\u001b[0;34m,\u001b[0m \u001b[0midx_val\u001b[0m\u001b[0;34m)\u001b[0m\u001b[0;34m\u001b[0m\u001b[0;34m\u001b[0m\u001b[0m\n\u001b[0m\u001b[1;32m      2\u001b[0m \u001b[0;34m\u001b[0m\u001b[0m\n\u001b[1;32m      3\u001b[0m \u001b[0mplt\u001b[0m\u001b[0;34m.\u001b[0m\u001b[0mplot\u001b[0m\u001b[0;34m(\u001b[0m\u001b[0mtrace_train\u001b[0m\u001b[0;34m,\u001b[0m \u001b[0mlabel\u001b[0m\u001b[0;34m=\u001b[0m\u001b[0;34m'train'\u001b[0m\u001b[0;34m)\u001b[0m\u001b[0;34m\u001b[0m\u001b[0;34m\u001b[0m\u001b[0m\n\u001b[1;32m      4\u001b[0m \u001b[0mplt\u001b[0m\u001b[0;34m.\u001b[0m\u001b[0mplot\u001b[0m\u001b[0;34m(\u001b[0m\u001b[0mtrace_val\u001b[0m\u001b[0;34m,\u001b[0m \u001b[0mlabel\u001b[0m\u001b[0;34m=\u001b[0m\u001b[0;34m'validation'\u001b[0m\u001b[0;34m)\u001b[0m\u001b[0;34m\u001b[0m\u001b[0;34m\u001b[0m\u001b[0m\n\u001b[1;32m      5\u001b[0m \u001b[0mplt\u001b[0m\u001b[0;34m.\u001b[0m\u001b[0mxlabel\u001b[0m\u001b[0;34m(\u001b[0m\u001b[0;34m'Epochs'\u001b[0m\u001b[0;34m)\u001b[0m\u001b[0;34m\u001b[0m\u001b[0;34m\u001b[0m\u001b[0m\n",
            "\u001b[0;32m<ipython-input-16-5a62c3a97580>\u001b[0m in \u001b[0;36mtrain\u001b[0;34m(model, X, A, labels, idx_train, idx_val, lr, weight_decay, patience, max_epochs, display_step)\u001b[0m\n\u001b[1;32m     53\u001b[0m     \u001b[0mbest_loss\u001b[0m \u001b[0;34m=\u001b[0m \u001b[0mnp\u001b[0m\u001b[0;34m.\u001b[0m\u001b[0minf\u001b[0m\u001b[0;34m\u001b[0m\u001b[0;34m\u001b[0m\u001b[0m\n\u001b[1;32m     54\u001b[0m     \u001b[0;32mfor\u001b[0m \u001b[0mit\u001b[0m \u001b[0;32min\u001b[0m \u001b[0mtqdm\u001b[0m\u001b[0;34m(\u001b[0m\u001b[0mrange\u001b[0m\u001b[0;34m(\u001b[0m\u001b[0mmax_epochs\u001b[0m\u001b[0;34m)\u001b[0m\u001b[0;34m,\u001b[0m \u001b[0mdesc\u001b[0m\u001b[0;34m=\u001b[0m\u001b[0;34m'Training...'\u001b[0m\u001b[0;34m)\u001b[0m\u001b[0;34m:\u001b[0m\u001b[0;34m\u001b[0m\u001b[0;34m\u001b[0m\u001b[0m\n\u001b[0;32m---> 55\u001b[0;31m         \u001b[0mlogits\u001b[0m \u001b[0;34m=\u001b[0m \u001b[0mmodel\u001b[0m\u001b[0;34m(\u001b[0m\u001b[0mX\u001b[0m\u001b[0;34m,\u001b[0m \u001b[0mA\u001b[0m\u001b[0;34m)\u001b[0m\u001b[0;34m\u001b[0m\u001b[0;34m\u001b[0m\u001b[0m\n\u001b[0m\u001b[1;32m     56\u001b[0m         \u001b[0;31m##########################################################\u001b[0m\u001b[0;34m\u001b[0m\u001b[0;34m\u001b[0m\u001b[0;34m\u001b[0m\u001b[0m\n\u001b[1;32m     57\u001b[0m         \u001b[0;31m# YOUR CODE HERE\u001b[0m\u001b[0;34m\u001b[0m\u001b[0;34m\u001b[0m\u001b[0;34m\u001b[0m\u001b[0m\n",
            "\u001b[0;32m/usr/local/lib/python3.6/dist-packages/torch/nn/modules/module.py\u001b[0m in \u001b[0;36m__call__\u001b[0;34m(self, *input, **kwargs)\u001b[0m\n\u001b[1;32m    548\u001b[0m             \u001b[0mresult\u001b[0m \u001b[0;34m=\u001b[0m \u001b[0mself\u001b[0m\u001b[0;34m.\u001b[0m\u001b[0m_slow_forward\u001b[0m\u001b[0;34m(\u001b[0m\u001b[0;34m*\u001b[0m\u001b[0minput\u001b[0m\u001b[0;34m,\u001b[0m \u001b[0;34m**\u001b[0m\u001b[0mkwargs\u001b[0m\u001b[0;34m)\u001b[0m\u001b[0;34m\u001b[0m\u001b[0;34m\u001b[0m\u001b[0m\n\u001b[1;32m    549\u001b[0m         \u001b[0;32melse\u001b[0m\u001b[0;34m:\u001b[0m\u001b[0;34m\u001b[0m\u001b[0;34m\u001b[0m\u001b[0m\n\u001b[0;32m--> 550\u001b[0;31m             \u001b[0mresult\u001b[0m \u001b[0;34m=\u001b[0m \u001b[0mself\u001b[0m\u001b[0;34m.\u001b[0m\u001b[0mforward\u001b[0m\u001b[0;34m(\u001b[0m\u001b[0;34m*\u001b[0m\u001b[0minput\u001b[0m\u001b[0;34m,\u001b[0m \u001b[0;34m**\u001b[0m\u001b[0mkwargs\u001b[0m\u001b[0;34m)\u001b[0m\u001b[0;34m\u001b[0m\u001b[0;34m\u001b[0m\u001b[0m\n\u001b[0m\u001b[1;32m    551\u001b[0m         \u001b[0;32mfor\u001b[0m \u001b[0mhook\u001b[0m \u001b[0;32min\u001b[0m \u001b[0mself\u001b[0m\u001b[0;34m.\u001b[0m\u001b[0m_forward_hooks\u001b[0m\u001b[0;34m.\u001b[0m\u001b[0mvalues\u001b[0m\u001b[0;34m(\u001b[0m\u001b[0;34m)\u001b[0m\u001b[0;34m:\u001b[0m\u001b[0;34m\u001b[0m\u001b[0;34m\u001b[0m\u001b[0m\n\u001b[1;32m    552\u001b[0m             \u001b[0mhook_result\u001b[0m \u001b[0;34m=\u001b[0m \u001b[0mhook\u001b[0m\u001b[0;34m(\u001b[0m\u001b[0mself\u001b[0m\u001b[0;34m,\u001b[0m \u001b[0minput\u001b[0m\u001b[0;34m,\u001b[0m \u001b[0mresult\u001b[0m\u001b[0;34m)\u001b[0m\u001b[0;34m\u001b[0m\u001b[0;34m\u001b[0m\u001b[0m\n",
            "\u001b[0;32m<ipython-input-13-ae3b9cea1586>\u001b[0m in \u001b[0;36mforward\u001b[0;34m(self, X, A)\u001b[0m\n\u001b[1;32m    111\u001b[0m         \u001b[0mX\u001b[0m \u001b[0;34m=\u001b[0m \u001b[0msp\u001b[0m\u001b[0;34m.\u001b[0m\u001b[0mmm\u001b[0m\u001b[0;34m(\u001b[0m\u001b[0mA_hat\u001b[0m\u001b[0;34m,\u001b[0m\u001b[0mX\u001b[0m\u001b[0;34m)\u001b[0m\u001b[0;34m\u001b[0m\u001b[0;34m\u001b[0m\u001b[0m\n\u001b[1;32m    112\u001b[0m         \u001b[0;31m# Forward Pass\u001b[0m\u001b[0;34m\u001b[0m\u001b[0;34m\u001b[0m\u001b[0;34m\u001b[0m\u001b[0m\n\u001b[0;32m--> 113\u001b[0;31m         \u001b[0mX\u001b[0m \u001b[0;34m=\u001b[0m \u001b[0mself\u001b[0m\u001b[0;34m.\u001b[0m\u001b[0m_layers\u001b[0m\u001b[0;34m(\u001b[0m\u001b[0mX\u001b[0m\u001b[0;34m)\u001b[0m\u001b[0;34m\u001b[0m\u001b[0;34m\u001b[0m\u001b[0m\n\u001b[0m\u001b[1;32m    114\u001b[0m         \u001b[0;31m##########################################################\u001b[0m\u001b[0;34m\u001b[0m\u001b[0;34m\u001b[0m\u001b[0;34m\u001b[0m\u001b[0m\n\u001b[1;32m    115\u001b[0m         \u001b[0;32mreturn\u001b[0m \u001b[0mX\u001b[0m\u001b[0;34m\u001b[0m\u001b[0;34m\u001b[0m\u001b[0m\n",
            "\u001b[0;32m/usr/local/lib/python3.6/dist-packages/torch/nn/modules/module.py\u001b[0m in \u001b[0;36m__call__\u001b[0;34m(self, *input, **kwargs)\u001b[0m\n\u001b[1;32m    548\u001b[0m             \u001b[0mresult\u001b[0m \u001b[0;34m=\u001b[0m \u001b[0mself\u001b[0m\u001b[0;34m.\u001b[0m\u001b[0m_slow_forward\u001b[0m\u001b[0;34m(\u001b[0m\u001b[0;34m*\u001b[0m\u001b[0minput\u001b[0m\u001b[0;34m,\u001b[0m \u001b[0;34m**\u001b[0m\u001b[0mkwargs\u001b[0m\u001b[0;34m)\u001b[0m\u001b[0;34m\u001b[0m\u001b[0;34m\u001b[0m\u001b[0m\n\u001b[1;32m    549\u001b[0m         \u001b[0;32melse\u001b[0m\u001b[0;34m:\u001b[0m\u001b[0;34m\u001b[0m\u001b[0;34m\u001b[0m\u001b[0m\n\u001b[0;32m--> 550\u001b[0;31m             \u001b[0mresult\u001b[0m \u001b[0;34m=\u001b[0m \u001b[0mself\u001b[0m\u001b[0;34m.\u001b[0m\u001b[0mforward\u001b[0m\u001b[0;34m(\u001b[0m\u001b[0;34m*\u001b[0m\u001b[0minput\u001b[0m\u001b[0;34m,\u001b[0m \u001b[0;34m**\u001b[0m\u001b[0mkwargs\u001b[0m\u001b[0;34m)\u001b[0m\u001b[0;34m\u001b[0m\u001b[0;34m\u001b[0m\u001b[0m\n\u001b[0m\u001b[1;32m    551\u001b[0m         \u001b[0;32mfor\u001b[0m \u001b[0mhook\u001b[0m \u001b[0;32min\u001b[0m \u001b[0mself\u001b[0m\u001b[0;34m.\u001b[0m\u001b[0m_forward_hooks\u001b[0m\u001b[0;34m.\u001b[0m\u001b[0mvalues\u001b[0m\u001b[0;34m(\u001b[0m\u001b[0;34m)\u001b[0m\u001b[0;34m:\u001b[0m\u001b[0;34m\u001b[0m\u001b[0;34m\u001b[0m\u001b[0m\n\u001b[1;32m    552\u001b[0m             \u001b[0mhook_result\u001b[0m \u001b[0;34m=\u001b[0m \u001b[0mhook\u001b[0m\u001b[0;34m(\u001b[0m\u001b[0mself\u001b[0m\u001b[0;34m,\u001b[0m \u001b[0minput\u001b[0m\u001b[0;34m,\u001b[0m \u001b[0mresult\u001b[0m\u001b[0;34m)\u001b[0m\u001b[0;34m\u001b[0m\u001b[0;34m\u001b[0m\u001b[0m\n",
            "\u001b[0;31mTypeError\u001b[0m: forward() takes 1 positional argument but 2 were given"
          ]
        }
      ]
    },
    {
      "cell_type": "code",
      "metadata": {
        "id": "-LHZ8rPGmapT",
        "colab_type": "code",
        "colab": {},
        "outputId": "9ed791cf-1976-456d-c56a-9d9637033175"
      },
      "source": [
        "%debug"
      ],
      "execution_count": null,
      "outputs": [
        {
          "output_type": "stream",
          "text": [
            "ERROR:root:No traceback has been produced, nothing to debug.\n"
          ],
          "name": "stderr"
        }
      ]
    },
    {
      "cell_type": "markdown",
      "metadata": {
        "id": "IPsMhUW5mapY",
        "colab_type": "text"
      },
      "source": [
        "## 2 - Personalized Propagation of Neural Predictions (35 pt) \n",
        "\n",
        "We learned that a GCN comes with several limitations. Some of them are targeted via (Approximate) Personalized Propagation of Neural Predictions (A)PPNP.\n",
        "\n",
        "We use the iterative approach\n",
        "$$𝐻^{(𝑙+1)}= (1−\\alpha) \\delta_{\\text{dropout}} \\hat{A} 𝐻^{(𝑙)} + \\alpha 𝐻^{(0)}$$\n",
        "to approximate the personalized page rank. $\\alpha$ denotes the restart/teleport probability and $𝐻^{(0)}$ the result (i.e. logits) of a feed forward neural network on the input features $𝐻^{(0)}=f_{\\theta}(X)$. Looking at the details of [[Klicpera et al. 2019]](https://arxiv.org/abs/1810.05997) we understand that dropout is applied to the approximate propagation step (see upcoming Section 2.2). In each step, a randomly drawn dropout mask $\\delta_{\\text{dropout}}$ is multiplied with the normalized adjacency matrix $\\hat{A} = 𝐷^{−\\frac{1}{2}} 𝐴 𝐷^{−\\frac{1}{2}}$.\n",
        " \n",
        "### 2.1 - Sparse Dropout (10 pt)\n",
        "\n",
        "Unfortunately, PyTorch's dropout does not work on sparse matrices. However, we simply need to apply dropout to the values of the sparse matrix and then construct the sparse matrix again (`torch.sparse.FloatTensor(...)`)."
      ]
    },
    {
      "cell_type": "code",
      "metadata": {
        "id": "A5QwZHi5mapZ",
        "colab_type": "code",
        "colab": {}
      },
      "source": [
        "def sparse_dropout(A: torch.sparse.FloatTensor, p: float, training: bool) -> torch.sparse.FloatTensor:\n",
        "    ##########################################################\n",
        "    # YOUR CODE HERE\n",
        "    ...\n",
        "    ##########################################################\n",
        "    return A"
      ],
      "execution_count": null,
      "outputs": []
    },
    {
      "cell_type": "markdown",
      "metadata": {
        "id": "BFTHHUmtmapf",
        "colab_type": "text"
      },
      "source": [
        "### 2.2 - Approximate Personalized Pagerank (15 pt)\n",
        "\n",
        "Implementation of the power iteration for approximating the personalized page rank."
      ]
    },
    {
      "cell_type": "code",
      "metadata": {
        "id": "KaGAX28gmaph",
        "colab_type": "code",
        "colab": {}
      },
      "source": [
        "class PowerIterationPageRank(nn.Module):\n",
        "    \"\"\"\n",
        "    Power itertaion module for propagating the labels.\n",
        "    \n",
        "    Parameters\n",
        "    ----------\n",
        "    dropout: float\n",
        "        The dropout probability.\n",
        "    alpha: float\n",
        "        The teleport probability.\n",
        "    n_propagation: int\n",
        "        The number of iterations for approximating the personalized page rank.\n",
        "    \"\"\"\n",
        "    \n",
        "    def __init__(self,\n",
        "                 dropout: float = 0.5,\n",
        "                 alpha: float = 0.15,\n",
        "                 n_propagation: int = 5):\n",
        "        super().__init__()\n",
        "        self.dropout = dropout\n",
        "        self.alpha = alpha\n",
        "        self.n_propagation = n_propagation\n",
        "        \n",
        "    def forward(self, logits: torch.Tensor, A_hat: torch.sparse.FloatTensor) -> torch.tensor:\n",
        "        \"\"\"\n",
        "        Forward method.\n",
        "        \n",
        "        Parameters\n",
        "        ----------\n",
        "        logits: torch.tensor\n",
        "            The local logits (for each node).\n",
        "        A_hat: torch.tensor\n",
        "            The normalized adjacency matrix `A_hat`.\n",
        "            \n",
        "        Returns\n",
        "        ---------\n",
        "        logits: torch.tensor\n",
        "            The propagated/smoothed logits.\n",
        "        \"\"\"\n",
        "        ##########################################################\n",
        "        # YOUR CODE HERE\n",
        "        ...\n",
        "        ##########################################################\n",
        "        return logits"
      ],
      "execution_count": null,
      "outputs": []
    },
    {
      "cell_type": "markdown",
      "metadata": {
        "id": "BeVrciS7mapm",
        "colab_type": "text"
      },
      "source": [
        "### 2.3 - Approximate Personalized Propagation of Neural Predictions (10 pt)\n",
        "\n",
        "Putting it all together (note that you may use `self._normalize(...)`)."
      ]
    },
    {
      "cell_type": "code",
      "metadata": {
        "id": "EvMk019Omapo",
        "colab_type": "code",
        "colab": {}
      },
      "source": [
        "class APPNP(GCN):\n",
        "    \"\"\"\n",
        "    Approximate Personalized Propagation of Neural Predictions: as proposed in [Klicpera et al. 2019](https://arxiv.org/abs/1810.05997).\n",
        "    \n",
        "    Parameters\n",
        "    ----------\n",
        "    n_features: int\n",
        "        Dimensionality of input features.\n",
        "    n_classes: int\n",
        "        Number of classes for the semi-supervised node classification.\n",
        "    hidden_dimensions: List[int]\n",
        "        Internal number of features. `len(hidden_dimensions)` defines the number of hidden representations.\n",
        "    activation: nn.Module\n",
        "        The activation for each layer but the last.\n",
        "    dropout: float\n",
        "        The dropout probability.\n",
        "    \"\"\"\n",
        "    \n",
        "    def __init__(self,\n",
        "                 n_features: int,\n",
        "                 n_classes: int,\n",
        "                 hidden_dimensions: List[int] = [80],\n",
        "                 activation: nn.Module = nn.ReLU(),\n",
        "                 dropout: float = 0.5,\n",
        "                 alpha: float = 0.1,\n",
        "                 n_propagation: int = 5):\n",
        "        super().__init__(n_features, n_classes)\n",
        "        self.n_features = n_features\n",
        "        self.n_classes = n_classes\n",
        "        self.hidden_dimensions = hidden_dimensions\n",
        "        self.dropout = dropout\n",
        "        self._transform_features = nn.Sequential(OrderedDict([\n",
        "            (f'dropout_{0}', nn.Dropout(p=self.dropout))\n",
        "        ] + list(chain(*[\n",
        "            [(f'linear_{idx}', nn.Linear(in_features=in_features, out_features=out_features)),\n",
        "             (f'activation_{idx}', activation)]\n",
        "            for idx, (in_features, out_features)\n",
        "            in enumerate(zip([n_features] + hidden_dimensions[:-1], hidden_dimensions))\n",
        "        ])) + [\n",
        "            (f'linear_{len(hidden_dimensions)}', nn.Linear(in_features=hidden_dimensions[-1],\n",
        "                                                        out_features=n_classes)),\n",
        "            (f'dropout_{len(hidden_dimensions)}', nn.Dropout(p=self.dropout)),\n",
        "        ]))\n",
        "        self._propagate = PowerIterationPageRank(dropout=dropout, \n",
        "                                                 alpha=alpha, \n",
        "                                                 n_propagation=n_propagation)\n",
        "\n",
        "    def forward(self, X: torch.Tensor, A: torch.sparse.FloatTensor) -> torch.tensor:\n",
        "        \"\"\"\n",
        "        Forward method.\n",
        "        \n",
        "        Parameters\n",
        "        ----------\n",
        "        X: torch.tensor\n",
        "            Feature matrix `X`\n",
        "        A: torch.tensor\n",
        "            adjacency matrix `A` (with self-loops)\n",
        "            \n",
        "        Returns\n",
        "        ---------\n",
        "        logits: torch.tensor\n",
        "            The propagated logits.\n",
        "        \"\"\"\n",
        "        ##########################################################\n",
        "        # YOUR CODE HERE\n",
        "        ...\n",
        "        ##########################################################\n",
        "        return logits"
      ],
      "execution_count": null,
      "outputs": []
    },
    {
      "cell_type": "code",
      "metadata": {
        "id": "HKoL_GPomapu",
        "colab_type": "code",
        "colab": {},
        "outputId": "9fd2a8df-a2a8-4517-e367-e35ec43e7e30"
      },
      "source": [
        "three_layer_appnp = APPNP(n_features=D, n_classes=C, hidden_dimensions=[80, 80])\n",
        "if use_cuda:\n",
        "    three_layer_appnp = three_layer_appnp.cuda()\n",
        "    \n",
        "three_layer_appnp"
      ],
      "execution_count": null,
      "outputs": [
        {
          "output_type": "execute_result",
          "data": {
            "text/plain": [
              "APPNP(\n",
              "  (_layers): ModuleList(\n",
              "    (0): Sequential(\n",
              "      (gcn_0): GraphConvolution(\n",
              "        (_linear): Linear(in_features=2879, out_features=80, bias=False)\n",
              "      )\n",
              "      (activation_0): ReLU()\n",
              "      (dropout_0): Dropout(p=0.5, inplace=False)\n",
              "    )\n",
              "    (1): Sequential(\n",
              "      (gcn_1): GraphConvolution(\n",
              "        (_linear): Linear(in_features=80, out_features=7, bias=False)\n",
              "      )\n",
              "    )\n",
              "  )\n",
              "  (_transform_features): Sequential(\n",
              "    (dropout_0): Dropout(p=0.5, inplace=False)\n",
              "    (linear_0): Linear(in_features=2879, out_features=80, bias=True)\n",
              "    (activation_0): ReLU()\n",
              "    (linear_1): Linear(in_features=80, out_features=80, bias=True)\n",
              "    (activation_1): ReLU()\n",
              "    (linear_2): Linear(in_features=80, out_features=7, bias=True)\n",
              "    (dropout_2): Dropout(p=0.5, inplace=False)\n",
              "  )\n",
              "  (_propagate): PowerIterationPageRank()\n",
              ")"
            ]
          },
          "metadata": {
            "tags": []
          },
          "execution_count": 17
        }
      ]
    },
    {
      "cell_type": "code",
      "metadata": {
        "id": "Lex1XVHTmap1",
        "colab_type": "code",
        "colab": {
          "referenced_widgets": [
            "71e8337d30194212a68d7b5c7c65a0a0"
          ]
        },
        "outputId": "f871bb43-47ef-4fc7-b0bf-bf91dbd05063"
      },
      "source": [
        "trace_train, trace_val = train(three_layer_appnp, X, A, labels, idx_train, idx_val)\n",
        "\n",
        "plt.plot(trace_train, label='train')\n",
        "plt.plot(trace_val, label='validation')\n",
        "plt.xlabel('Epochs')\n",
        "plt.ylabel('Loss')\n",
        "plt.legend()\n",
        "plt.grid(True)"
      ],
      "execution_count": null,
      "outputs": [
        {
          "output_type": "display_data",
          "data": {
            "application/vnd.jupyter.widget-view+json": {
              "model_id": "71e8337d30194212a68d7b5c7c65a0a0",
              "version_major": 2,
              "version_minor": 0
            },
            "text/plain": [
              "HBox(children=(FloatProgress(value=0.0, description='Training...', max=300.0, style=ProgressStyle(description_…"
            ]
          },
          "metadata": {
            "tags": []
          }
        },
        {
          "output_type": "stream",
          "text": [
            "Epoch    0: loss_train: 1.92863, loss_val: 1.93239 \n",
            "Epoch   10: loss_train: 1.76520, loss_val: 1.83999 \n",
            "Epoch   20: loss_train: 1.49287, loss_val: 1.63081 \n",
            "Epoch   30: loss_train: 1.02522, loss_val: 1.30092 \n",
            "Epoch   40: loss_train: 0.77976, loss_val: 1.08662 \n",
            "Epoch   50: loss_train: 0.54641, loss_val: 1.11956 \n",
            "Epoch   60: loss_train: 0.46005, loss_val: 0.77055 \n",
            "Epoch   70: loss_train: 0.39243, loss_val: 0.74949 \n",
            "Epoch   80: loss_train: 0.22211, loss_val: 0.84415 \n",
            "Epoch   90: loss_train: 0.25112, loss_val: 0.87078 \n",
            "Epoch  100: loss_train: 0.23980, loss_val: 0.89321 \n",
            "Epoch  110: loss_train: 0.23140, loss_val: 1.11581 \n",
            "Epoch  120: loss_train: 0.18881, loss_val: 0.60216 \n",
            "Epoch  130: loss_train: 0.16844, loss_val: 1.07929 \n",
            "Epoch  140: loss_train: 0.20830, loss_val: 0.86301 \n",
            "Epoch  150: loss_train: 0.17723, loss_val: 0.82068 \n",
            "Epoch  160: loss_train: 0.18657, loss_val: 0.95038 \n",
            "\n"
          ],
          "name": "stdout"
        },
        {
          "output_type": "display_data",
          "data": {
            "image/png": "[encoded data removed]",
            "text/plain": [
              "<Figure size 432x288 with 1 Axes>"
            ]
          },
          "metadata": {
            "tags": [],
            "needs_background": "light"
          }
        }
      ]
    },
    {
      "cell_type": "markdown",
      "metadata": {
        "id": "hV3vnxnYmap5",
        "colab_type": "text"
      },
      "source": [
        "## 3 - Oversmoothing (10 pt)\n",
        "As we have learned, we should limit the number of message passing steps for a vanilla GCN to prevent oversmoothing. In this section, we are going to analyze this phenomenon via plotting the test accuracy over the number of propagation steps.\n",
        "\n",
        "## 3.1 - Accuracy (5 pt)\n",
        "Please note that you are given the logits (no softmax applied), the labels, and the indices of the test nodes."
      ]
    },
    {
      "cell_type": "code",
      "metadata": {
        "id": "geofejlXmap6",
        "colab_type": "code",
        "colab": {}
      },
      "source": [
        "def calc_accuracy(logits: torch.Tensor, labels: torch.Tensor, idx_test: np.ndarray) -> float:\n",
        "    \"\"\"\n",
        "    Calculates the accuracy.\n",
        "    \n",
        "    Parameters\n",
        "    ----------\n",
        "    logits: torch.tensor\n",
        "        The predicted logits.\n",
        "    labels: torch.tensor\n",
        "        The labels vector.\n",
        "    idx_test: torch.tensor\n",
        "        The indices of the test nodes.\n",
        "    \"\"\"\n",
        "    ##########################################################\n",
        "    # YOUR CODE HERE\n",
        "    ...\n",
        "    ##########################################################\n",
        "    return accuracy"
      ],
      "execution_count": null,
      "outputs": []
    },
    {
      "cell_type": "markdown",
      "metadata": {
        "id": "tjchlbY6map_",
        "colab_type": "text"
      },
      "source": [
        "## 3.2 - Compare GCN and APPNP (5 pt)\n",
        "\n",
        "Calculate the accuracy (keep in mind that dropout is only applied during training). Subsequently, we plot the accuracies over the numer of propagation steps."
      ]
    },
    {
      "cell_type": "code",
      "metadata": {
        "id": "p-yjkAzJmaqB",
        "colab_type": "code",
        "colab": {
          "referenced_widgets": [
            "eff4c07ac8114d3eb3d6159d8464e650",
            "11988ecbd84a4bc4a35581cfbb24d515",
            "132696685d4d4cefa3e3be31e43c11c6",
            "a4e9e110fe6f4e4eb97c6b9ba218d502",
            "fb9b2178232a4c8a9dc6324485927070",
            "5775d786300348d9a9ed2a62b4aaf55a",
            "4b06121cce36472abf8922765a5f6289",
            "ee4a9e6d1be74e3b9f7ad3f953409690",
            "f88e6a14cdc743c68b3d5fafe6f1888f",
            "e8c2b32980814739b558177a300b69fa",
            "1a6b25126fa444079b98b25436dabc31",
            "812c79c6d17c49838a3bbaec0e161e23"
          ]
        },
        "outputId": "5dad285b-82ba-4442-bd70-c2bd62b0d4af"
      },
      "source": [
        "n_hidden_dimensions = 80\n",
        "n_propagations = [1,2,3,4,5,10]\n",
        "\n",
        "test_accuracy_gcn = []\n",
        "for n_propagation in n_propagations:\n",
        "    model = GCN(n_features=D, n_classes=C, hidden_dimensions=n_propagation*[n_hidden_dimensions])\n",
        "    if use_cuda:\n",
        "        model = model.cuda()\n",
        "    train(model, X, A, labels, idx_train, idx_val, display_step=-1)\n",
        "    ##########################################################\n",
        "    # YOUR CODE HERE\n",
        "    ...\n",
        "    ##########################################################\n",
        "    test_accuracy_gcn.append(accuracy)\n",
        "    \n",
        "test_accuracy_appnp = []\n",
        "for n_propagation in n_propagations:\n",
        "    model = APPNP(n_features=D, n_classes=C, n_propagation=n_propagation)\n",
        "    if use_cuda:\n",
        "        model = model.cuda()\n",
        "    train(model, X, A, labels, idx_train, idx_val, display_step=-1)\n",
        "    ##########################################################\n",
        "    # YOUR CODE HERE\n",
        "    ...\n",
        "    ##########################################################\n",
        "    test_accuracy_appnp.append(accuracy)"
      ],
      "execution_count": null,
      "outputs": [
        {
          "output_type": "display_data",
          "data": {
            "application/vnd.jupyter.widget-view+json": {
              "model_id": "eff4c07ac8114d3eb3d6159d8464e650",
              "version_major": 2,
              "version_minor": 0
            },
            "text/plain": [
              "HBox(children=(FloatProgress(value=0.0, description='Training...', max=300.0, style=ProgressStyle(description_…"
            ]
          },
          "metadata": {
            "tags": []
          }
        },
        {
          "output_type": "display_data",
          "data": {
            "application/vnd.jupyter.widget-view+json": {
              "model_id": "11988ecbd84a4bc4a35581cfbb24d515",
              "version_major": 2,
              "version_minor": 0
            },
            "text/plain": [
              "HBox(children=(FloatProgress(value=0.0, description='Training...', max=300.0, style=ProgressStyle(description_…"
            ]
          },
          "metadata": {
            "tags": []
          }
        },
        {
          "output_type": "display_data",
          "data": {
            "application/vnd.jupyter.widget-view+json": {
              "model_id": "132696685d4d4cefa3e3be31e43c11c6",
              "version_major": 2,
              "version_minor": 0
            },
            "text/plain": [
              "HBox(children=(FloatProgress(value=0.0, description='Training...', max=300.0, style=ProgressStyle(description_…"
            ]
          },
          "metadata": {
            "tags": []
          }
        },
        {
          "output_type": "display_data",
          "data": {
            "application/vnd.jupyter.widget-view+json": {
              "model_id": "a4e9e110fe6f4e4eb97c6b9ba218d502",
              "version_major": 2,
              "version_minor": 0
            },
            "text/plain": [
              "HBox(children=(FloatProgress(value=0.0, description='Training...', max=300.0, style=ProgressStyle(description_…"
            ]
          },
          "metadata": {
            "tags": []
          }
        },
        {
          "output_type": "stream",
          "text": [
            "\n",
            "\n"
          ],
          "name": "stdout"
        },
        {
          "output_type": "display_data",
          "data": {
            "application/vnd.jupyter.widget-view+json": {
              "model_id": "fb9b2178232a4c8a9dc6324485927070",
              "version_major": 2,
              "version_minor": 0
            },
            "text/plain": [
              "HBox(children=(FloatProgress(value=0.0, description='Training...', max=300.0, style=ProgressStyle(description_…"
            ]
          },
          "metadata": {
            "tags": []
          }
        },
        {
          "output_type": "display_data",
          "data": {
            "application/vnd.jupyter.widget-view+json": {
              "model_id": "5775d786300348d9a9ed2a62b4aaf55a",
              "version_major": 2,
              "version_minor": 0
            },
            "text/plain": [
              "HBox(children=(FloatProgress(value=0.0, description='Training...', max=300.0, style=ProgressStyle(description_…"
            ]
          },
          "metadata": {
            "tags": []
          }
        },
        {
          "output_type": "stream",
          "text": [
            "\n"
          ],
          "name": "stdout"
        },
        {
          "output_type": "display_data",
          "data": {
            "application/vnd.jupyter.widget-view+json": {
              "model_id": "4b06121cce36472abf8922765a5f6289",
              "version_major": 2,
              "version_minor": 0
            },
            "text/plain": [
              "HBox(children=(FloatProgress(value=0.0, description='Training...', max=300.0, style=ProgressStyle(description_…"
            ]
          },
          "metadata": {
            "tags": []
          }
        },
        {
          "output_type": "display_data",
          "data": {
            "application/vnd.jupyter.widget-view+json": {
              "model_id": "ee4a9e6d1be74e3b9f7ad3f953409690",
              "version_major": 2,
              "version_minor": 0
            },
            "text/plain": [
              "HBox(children=(FloatProgress(value=0.0, description='Training...', max=300.0, style=ProgressStyle(description_…"
            ]
          },
          "metadata": {
            "tags": []
          }
        },
        {
          "output_type": "display_data",
          "data": {
            "application/vnd.jupyter.widget-view+json": {
              "model_id": "f88e6a14cdc743c68b3d5fafe6f1888f",
              "version_major": 2,
              "version_minor": 0
            },
            "text/plain": [
              "HBox(children=(FloatProgress(value=0.0, description='Training...', max=300.0, style=ProgressStyle(description_…"
            ]
          },
          "metadata": {
            "tags": []
          }
        },
        {
          "output_type": "display_data",
          "data": {
            "application/vnd.jupyter.widget-view+json": {
              "model_id": "e8c2b32980814739b558177a300b69fa",
              "version_major": 2,
              "version_minor": 0
            },
            "text/plain": [
              "HBox(children=(FloatProgress(value=0.0, description='Training...', max=300.0, style=ProgressStyle(description_…"
            ]
          },
          "metadata": {
            "tags": []
          }
        },
        {
          "output_type": "stream",
          "text": [
            "\n",
            "\n",
            "\n",
            "\n"
          ],
          "name": "stdout"
        },
        {
          "output_type": "display_data",
          "data": {
            "application/vnd.jupyter.widget-view+json": {
              "model_id": "1a6b25126fa444079b98b25436dabc31",
              "version_major": 2,
              "version_minor": 0
            },
            "text/plain": [
              "HBox(children=(FloatProgress(value=0.0, description='Training...', max=300.0, style=ProgressStyle(description_…"
            ]
          },
          "metadata": {
            "tags": []
          }
        },
        {
          "output_type": "display_data",
          "data": {
            "application/vnd.jupyter.widget-view+json": {
              "model_id": "812c79c6d17c49838a3bbaec0e161e23",
              "version_major": 2,
              "version_minor": 0
            },
            "text/plain": [
              "HBox(children=(FloatProgress(value=0.0, description='Training...', max=300.0, style=ProgressStyle(description_…"
            ]
          },
          "metadata": {
            "tags": []
          }
        }
      ]
    },
    {
      "cell_type": "code",
      "metadata": {
        "id": "1elAYwVDmaqH",
        "colab_type": "code",
        "colab": {},
        "outputId": "3f640e02-725a-4bf7-b41c-4820a8c14f02"
      },
      "source": [
        "plt.plot(n_propagations, test_accuracy_gcn, label='GCN', marker='.')\n",
        "plt.plot(n_propagations, test_accuracy_appnp, label='APPNP', marker='.')\n",
        "plt.xlabel('Message passing steps')\n",
        "plt.ylabel('Accuracy')\n",
        "plt.ylim(0.7, 0.9)\n",
        "plt.gca().xaxis.set_major_locator(ticker.MultipleLocator(1))\n",
        "plt.legend()\n",
        "plt.grid(True)"
      ],
      "execution_count": null,
      "outputs": [
        {
          "output_type": "display_data",
          "data": {
            "image/png": "[encoded data removed]",
            "text/plain": [
              "<Figure size 432x288 with 1 Axes>"
            ]
          },
          "metadata": {
            "tags": [],
            "needs_background": "light"
          }
        }
      ]
    },
    {
      "cell_type": "code",
      "metadata": {
        "id": "Yl9RDZfLmaqM",
        "colab_type": "code",
        "colab": {}
      },
      "source": [
        ""
      ],
      "execution_count": null,
      "outputs": []
    }
  ]
}