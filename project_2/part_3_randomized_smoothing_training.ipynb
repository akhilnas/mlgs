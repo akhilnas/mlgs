{
  "nbformat": 4,
  "nbformat_minor": 0,
  "metadata": {
    "kernelspec": {
      "display_name": "Python 3",
      "language": "python",
      "name": "python3"
    },
    "pycharm": {
      "stem_cell": {
        "cell_type": "raw",
        "metadata": {
          "collapsed": false
        },
        "source": []
      }
    },
    "colab": {
      "name": "part_3_randomized_smoothing_training.ipynb",
      "provenance": [],
      "collapsed_sections": []
    },
    "accelerator": "GPU",
    "widgets": {
      "application/vnd.jupyter.widget-state+json": {
        "5d837141d6584cb898bf7d5f8c38decc": {
          "model_module": "@jupyter-widgets/controls",
          "model_name": "HBoxModel",
          "state": {
            "_view_name": "HBoxView",
            "_dom_classes": [],
            "_model_name": "HBoxModel",
            "_view_module": "@jupyter-widgets/controls",
            "_model_module_version": "1.5.0",
            "_view_count": null,
            "_view_module_version": "1.5.0",
            "box_style": "",
            "layout": "IPY_MODEL_52915e28277d48c4bc6cad64f31beae1",
            "_model_module": "@jupyter-widgets/controls",
            "children": [
              "IPY_MODEL_b1f7a647a4a9498a8e12aa22663f0741",
              "IPY_MODEL_8ce91c89809a4ad99e8992c61624aead"
            ]
          }
        },
        "52915e28277d48c4bc6cad64f31beae1": {
          "model_module": "@jupyter-widgets/base",
          "model_name": "LayoutModel",
          "state": {
            "_view_name": "LayoutView",
            "grid_template_rows": null,
            "right": null,
            "justify_content": null,
            "_view_module": "@jupyter-widgets/base",
            "overflow": null,
            "_model_module_version": "1.2.0",
            "_view_count": null,
            "flex_flow": null,
            "width": null,
            "min_width": null,
            "border": null,
            "align_items": null,
            "bottom": null,
            "_model_module": "@jupyter-widgets/base",
            "top": null,
            "grid_column": null,
            "overflow_y": null,
            "overflow_x": null,
            "grid_auto_flow": null,
            "grid_area": null,
            "grid_template_columns": null,
            "flex": null,
            "_model_name": "LayoutModel",
            "justify_items": null,
            "grid_row": null,
            "max_height": null,
            "align_content": null,
            "visibility": null,
            "align_self": null,
            "height": null,
            "min_height": null,
            "padding": null,
            "grid_auto_rows": null,
            "grid_gap": null,
            "max_width": null,
            "order": null,
            "_view_module_version": "1.2.0",
            "grid_template_areas": null,
            "object_position": null,
            "object_fit": null,
            "grid_auto_columns": null,
            "margin": null,
            "display": null,
            "left": null
          }
        },
        "b1f7a647a4a9498a8e12aa22663f0741": {
          "model_module": "@jupyter-widgets/controls",
          "model_name": "FloatProgressModel",
          "state": {
            "_view_name": "ProgressView",
            "style": "IPY_MODEL_87a09eb450734bc7884601e0d9ffbd0a",
            "_dom_classes": [],
            "description": "100%",
            "_model_name": "FloatProgressModel",
            "bar_style": "success",
            "max": 469,
            "_view_module": "@jupyter-widgets/controls",
            "_model_module_version": "1.5.0",
            "value": 469,
            "_view_count": null,
            "_view_module_version": "1.5.0",
            "orientation": "horizontal",
            "min": 0,
            "description_tooltip": null,
            "_model_module": "@jupyter-widgets/controls",
            "layout": "IPY_MODEL_29d8e9ffe3b44550bfc8edeaa0468a02"
          }
        },
        "8ce91c89809a4ad99e8992c61624aead": {
          "model_module": "@jupyter-widgets/controls",
          "model_name": "HTMLModel",
          "state": {
            "_view_name": "HTMLView",
            "style": "IPY_MODEL_e792cbf46cd845f4992b76209e1907dc",
            "_dom_classes": [],
            "description": "",
            "_model_name": "HTMLModel",
            "placeholder": "​",
            "_view_module": "@jupyter-widgets/controls",
            "_model_module_version": "1.5.0",
            "value": " 469/469 [00:16&lt;00:00, 29.18it/s]",
            "_view_count": null,
            "_view_module_version": "1.5.0",
            "description_tooltip": null,
            "_model_module": "@jupyter-widgets/controls",
            "layout": "IPY_MODEL_13fc9845ed544e109ccfc951597f681d"
          }
        },
        "87a09eb450734bc7884601e0d9ffbd0a": {
          "model_module": "@jupyter-widgets/controls",
          "model_name": "ProgressStyleModel",
          "state": {
            "_view_name": "StyleView",
            "_model_name": "ProgressStyleModel",
            "description_width": "initial",
            "_view_module": "@jupyter-widgets/base",
            "_model_module_version": "1.5.0",
            "_view_count": null,
            "_view_module_version": "1.2.0",
            "bar_color": null,
            "_model_module": "@jupyter-widgets/controls"
          }
        },
        "29d8e9ffe3b44550bfc8edeaa0468a02": {
          "model_module": "@jupyter-widgets/base",
          "model_name": "LayoutModel",
          "state": {
            "_view_name": "LayoutView",
            "grid_template_rows": null,
            "right": null,
            "justify_content": null,
            "_view_module": "@jupyter-widgets/base",
            "overflow": null,
            "_model_module_version": "1.2.0",
            "_view_count": null,
            "flex_flow": null,
            "width": null,
            "min_width": null,
            "border": null,
            "align_items": null,
            "bottom": null,
            "_model_module": "@jupyter-widgets/base",
            "top": null,
            "grid_column": null,
            "overflow_y": null,
            "overflow_x": null,
            "grid_auto_flow": null,
            "grid_area": null,
            "grid_template_columns": null,
            "flex": null,
            "_model_name": "LayoutModel",
            "justify_items": null,
            "grid_row": null,
            "max_height": null,
            "align_content": null,
            "visibility": null,
            "align_self": null,
            "height": null,
            "min_height": null,
            "padding": null,
            "grid_auto_rows": null,
            "grid_gap": null,
            "max_width": null,
            "order": null,
            "_view_module_version": "1.2.0",
            "grid_template_areas": null,
            "object_position": null,
            "object_fit": null,
            "grid_auto_columns": null,
            "margin": null,
            "display": null,
            "left": null
          }
        },
        "e792cbf46cd845f4992b76209e1907dc": {
          "model_module": "@jupyter-widgets/controls",
          "model_name": "DescriptionStyleModel",
          "state": {
            "_view_name": "StyleView",
            "_model_name": "DescriptionStyleModel",
            "description_width": "",
            "_view_module": "@jupyter-widgets/base",
            "_model_module_version": "1.5.0",
            "_view_count": null,
            "_view_module_version": "1.2.0",
            "_model_module": "@jupyter-widgets/controls"
          }
        },
        "13fc9845ed544e109ccfc951597f681d": {
          "model_module": "@jupyter-widgets/base",
          "model_name": "LayoutModel",
          "state": {
            "_view_name": "LayoutView",
            "grid_template_rows": null,
            "right": null,
            "justify_content": null,
            "_view_module": "@jupyter-widgets/base",
            "overflow": null,
            "_model_module_version": "1.2.0",
            "_view_count": null,
            "flex_flow": null,
            "width": null,
            "min_width": null,
            "border": null,
            "align_items": null,
            "bottom": null,
            "_model_module": "@jupyter-widgets/base",
            "top": null,
            "grid_column": null,
            "overflow_y": null,
            "overflow_x": null,
            "grid_auto_flow": null,
            "grid_area": null,
            "grid_template_columns": null,
            "flex": null,
            "_model_name": "LayoutModel",
            "justify_items": null,
            "grid_row": null,
            "max_height": null,
            "align_content": null,
            "visibility": null,
            "align_self": null,
            "height": null,
            "min_height": null,
            "padding": null,
            "grid_auto_rows": null,
            "grid_gap": null,
            "max_width": null,
            "order": null,
            "_view_module_version": "1.2.0",
            "grid_template_areas": null,
            "object_position": null,
            "object_fit": null,
            "grid_auto_columns": null,
            "margin": null,
            "display": null,
            "left": null
          }
        }
      }
    }
  },
  "cells": [
    {
      "cell_type": "code",
      "metadata": {
        "id": "zpHb4Ij0sPro",
        "colab_type": "code",
        "outputId": "2f37116b-7529-48a3-868c-7e2d650b5ff3",
        "colab": {
          "base_uri": "https://localhost:8080/",
          "height": 124
        }
      },
      "source": [
        "from google.colab import drive\n",
        "drive.mount('/content/gdrive')\n",
        "root_path='/content/gdrive/My Drive/Colab Notebooks/studies/machine learning for graphs and sequential data/project_2'"
      ],
      "execution_count": 0,
      "outputs": [
        {
          "output_type": "stream",
          "text": [
            "Go to this URL in a browser: https://accounts.google.com/o/oauth2/auth?client_id=947318989803-6bn6qk8qdgf4n4g3pfee6491hc0brc4i.apps.googleusercontent.com&redirect_uri=urn%3aietf%3awg%3aoauth%3a2.0%3aoob&response_type=code&scope=email%20https%3a%2f%2fwww.googleapis.com%2fauth%2fdocs.test%20https%3a%2f%2fwww.googleapis.com%2fauth%2fdrive%20https%3a%2f%2fwww.googleapis.com%2fauth%2fdrive.photos.readonly%20https%3a%2f%2fwww.googleapis.com%2fauth%2fpeopleapi.readonly\n",
            "\n",
            "Enter your authorization code:\n",
            "··········\n",
            "Mounted at /content/gdrive\n"
          ],
          "name": "stdout"
        }
      ]
    },
    {
      "cell_type": "code",
      "metadata": {
        "id": "PI0l2YPWs6Uc",
        "colab_type": "code",
        "outputId": "452d718f-6382-4f60-8848-a9279fbab177",
        "colab": {
          "base_uri": "https://localhost:8080/",
          "height": 55
        }
      },
      "source": [
        "%cd '/content/gdrive/My Drive/Colab Notebooks/studies/machine learning for graphs and sequential data/project_2'"
      ],
      "execution_count": 0,
      "outputs": [
        {
          "output_type": "stream",
          "text": [
            "/content/gdrive/My Drive/Colab Notebooks/studies/machine learning for graphs and sequential data/project_2\n"
          ],
          "name": "stdout"
        }
      ]
    },
    {
      "cell_type": "code",
      "metadata": {
        "id": "nmyhcRRvr08u",
        "colab_type": "code",
        "outputId": "87fe6cc1-8ae3-42de-817e-57cba8a8e10c",
        "colab": {
          "base_uri": "https://localhost:8080/",
          "height": 52
        }
      },
      "source": [
        "%load_ext autoreload\n",
        "%autoreload 2\n",
        "import torch\n",
        "from torch.optim import Adam\n",
        "from matplotlib import pyplot as plt\n",
        "from utils import get_mnist_data\n",
        "from models import ConvNN, SmoothClassifier\n",
        "from training_and_evaluation import train_model\n",
        "from torch.nn.functional import cross_entropy\n"
      ],
      "execution_count": 0,
      "outputs": [
        {
          "output_type": "stream",
          "text": [
            "The autoreload extension is already loaded. To reload it, use:\n",
            "  %reload_ext autoreload\n"
          ],
          "name": "stdout"
        }
      ]
    },
    {
      "cell_type": "markdown",
      "metadata": {
        "id": "_coD_otWr089",
        "colab_type": "text"
      },
      "source": [
        "# Project 2, part 3: Randomized smoothing training (60 pt)\n",
        "In this notebook we train a smooth classifier via the principle of randomized smoothing.\n",
        "\n",
        "## Your task\n",
        "Complete the missing code in the respective files, i.e. `models.py`, and this notebook. Make sure that all the functions follow the provided specification, i.e. the output of the function exactly matches the description in the docstring. \n",
        "\n",
        "Specifically, for this part you will have to implement the following functions / classes:  \n",
        "**`models.py`**:\n",
        "* `SmoothClassifier`:\n",
        " * `certify` (20pt)\n",
        " * `predict` (20pt)\n",
        " * `_sample_noise_predictions` (20pt)\n",
        "\n",
        "## General remarks\n",
        "Do not add or modify any code outside of the following comment blocks, or where otherwise explicitly stated.\n",
        "\n",
        "``` python\n",
        "##########################################################\n",
        "# YOUR CODE HERE\n",
        "...\n",
        "##########################################################\n",
        "```\n",
        "After you fill in all the missing code, restart the kernel and re-run all the cells in the notebook.\n",
        "\n",
        "The following things are **NOT** allowed:\n",
        "- Using additional `import` statements\n",
        "- Copying / reusing code from other sources (e.g. code by other students)\n",
        "\n",
        "If you plagiarise even for a single project task, you won't be eligible for the bonus this semester."
      ]
    },
    {
      "cell_type": "code",
      "metadata": {
        "id": "0a7twPG5r08_",
        "colab_type": "code",
        "colab": {}
      },
      "source": [
        "mnist_trainset = get_mnist_data(train=True)\n",
        "mnist_testset = get_mnist_data(train=False)\n",
        "use_cuda = torch.cuda.is_available()\n",
        "base_classifier = ConvNN()\n",
        "if use_cuda:\n",
        "    base_classifier = base_classifier.cuda()"
      ],
      "execution_count": 0,
      "outputs": []
    },
    {
      "cell_type": "code",
      "metadata": {
        "id": "TU7TLCJsr09K",
        "colab_type": "code",
        "colab": {}
      },
      "source": [
        "sigma = 1\n",
        "batch_size = 128\n",
        "lr = 1e-3\n",
        "epochs = 1"
      ],
      "execution_count": 0,
      "outputs": []
    },
    {
      "cell_type": "markdown",
      "metadata": {
        "id": "fCzl4ZaQr09T",
        "colab_type": "text"
      },
      "source": [
        "### Creating a smooth classifier\n",
        "Implement the `SmoothClassifier` class in `models.py` and follow the docstrings there."
      ]
    },
    {
      "cell_type": "code",
      "metadata": {
        "id": "5y_2dHgxr09V",
        "colab_type": "code",
        "colab": {}
      },
      "source": [
        "model = SmoothClassifier(base_classifier=base_classifier, num_classes=10, sigma=sigma)\n",
        "opt = Adam(model.parameters(), lr=lr)"
      ],
      "execution_count": 0,
      "outputs": []
    },
    {
      "cell_type": "code",
      "metadata": {
        "id": "8dJp1PAOr09d",
        "colab_type": "code",
        "colab": {}
      },
      "source": [
        "def loss_function(x, y, model):\n",
        "    logits = model(x).cpu()\n",
        "    loss = cross_entropy(logits, y)\n",
        "    return loss, logits"
      ],
      "execution_count": 0,
      "outputs": []
    },
    {
      "cell_type": "code",
      "metadata": {
        "id": "K1Vju5AXr09i",
        "colab_type": "code",
        "outputId": "6af6eb56-9179-4db6-bd25-1dcc379f13c8",
        "colab": {
          "base_uri": "https://localhost:8080/",
          "height": 67,
          "referenced_widgets": [
            "5d837141d6584cb898bf7d5f8c38decc",
            "52915e28277d48c4bc6cad64f31beae1",
            "b1f7a647a4a9498a8e12aa22663f0741",
            "8ce91c89809a4ad99e8992c61624aead",
            "87a09eb450734bc7884601e0d9ffbd0a",
            "29d8e9ffe3b44550bfc8edeaa0468a02",
            "e792cbf46cd845f4992b76209e1907dc",
            "13fc9845ed544e109ccfc951597f681d"
          ]
        }
      },
      "source": [
        "losses, accuracies = train_model(model, mnist_trainset, batch_size=batch_size, loss_function=loss_function, optimizer=opt)"
      ],
      "execution_count": 0,
      "outputs": [
        {
          "output_type": "display_data",
          "data": {
            "application/vnd.jupyter.widget-view+json": {
              "model_id": "5d837141d6584cb898bf7d5f8c38decc",
              "version_minor": 0,
              "version_major": 2
            },
            "text/plain": [
              "HBox(children=(FloatProgress(value=0.0, max=469.0), HTML(value='')))"
            ]
          },
          "metadata": {
            "tags": []
          }
        },
        {
          "output_type": "stream",
          "text": [
            "\n"
          ],
          "name": "stdout"
        }
      ]
    },
    {
      "cell_type": "code",
      "metadata": {
        "id": "-WLbY52Cr09o",
        "colab_type": "code",
        "colab": {}
      },
      "source": [
        "torch.save(model.base_classifier.state_dict(), \"models/randomized_smoothing.checkpoint\")"
      ],
      "execution_count": 0,
      "outputs": []
    },
    {
      "cell_type": "code",
      "metadata": {
        "id": "33CINd12r09s",
        "colab_type": "code",
        "outputId": "93b061ef-8f2f-48aa-b16c-272d90c12ff1",
        "colab": {
          "base_uri": "https://localhost:8080/",
          "height": 226
        }
      },
      "source": [
        "fig = plt.figure(figsize=(10,3))\n",
        "plt.subplot(121)\n",
        "plt.plot(losses)\n",
        "plt.xlabel(\"Iteration\")\n",
        "plt.ylabel(\"Training Loss\")\n",
        "plt.subplot(122)\n",
        "plt.plot(accuracies)\n",
        "plt.xlabel(\"Iteration\")\n",
        "plt.ylabel(\"Training Accuracy\")\n",
        "plt.show()"
      ],
      "execution_count": 0,
      "outputs": [
        {
          "output_type": "display_data",
          "data": {
            "image/png": "[encoded data removed]",
            "text/plain": [
              "<Figure size 720x216 with 2 Axes>"
            ]
          },
          "metadata": {
            "tags": [],
            "needs_background": "light"
          }
        }
      ]
    },
    {
      "cell_type": "code",
      "metadata": {
        "id": "2M1DpcdVr09w",
        "colab_type": "code",
        "outputId": "efe91b5d-c9a6-40f7-fa36-77a88f628bd3",
        "colab": {
          "base_uri": "https://localhost:8080/",
          "height": 35
        }
      },
      "source": [
        "losses[-1], accuracies[-1]"
      ],
      "execution_count": 0,
      "outputs": [
        {
          "output_type": "execute_result",
          "data": {
            "text/plain": [
              "(tensor(0.0091, grad_fn=<DivBackward0>), 0.6979166666666666)"
            ]
          },
          "metadata": {
            "tags": []
          },
          "execution_count": 13
        }
      ]
    }
  ]
}