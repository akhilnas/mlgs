{
  "nbformat": 4,
  "nbformat_minor": 0,
  "metadata": {
    "kernelspec": {
      "display_name": "Python 3",
      "language": "python",
      "name": "python3"
    },
    "language_info": {
      "codemirror_mode": {
        "name": "ipython",
        "version": 3
      },
      "file_extension": ".py",
      "mimetype": "text/x-python",
      "name": "python",
      "nbconvert_exporter": "python",
      "pygments_lexer": "ipython3",
      "version": "3.7.4"
    },
    "colab": {
      "name": "part_2_variational_autoencoder.ipynb",
      "provenance": [],
      "collapsed_sections": []
    },
    "accelerator": "GPU",
    "widgets": {
      "application/vnd.jupyter.widget-state+json": {
        "e2994ce8beed4571b5ee36c487ffd0af": {
          "model_module": "@jupyter-widgets/controls",
          "model_name": "HBoxModel",
          "state": {
            "_view_name": "HBoxView",
            "_dom_classes": [],
            "_model_name": "HBoxModel",
            "_view_module": "@jupyter-widgets/controls",
            "_model_module_version": "1.5.0",
            "_view_count": null,
            "_view_module_version": "1.5.0",
            "box_style": "",
            "layout": "IPY_MODEL_e8532face07f4728bbd393b32d2c831d",
            "_model_module": "@jupyter-widgets/controls",
            "children": [
              "IPY_MODEL_c887859c0fc6462e9519fdcc292f8ff7",
              "IPY_MODEL_efc4875595f34fc8bfcf21f8dd3f20f7"
            ]
          }
        },
        "e8532face07f4728bbd393b32d2c831d": {
          "model_module": "@jupyter-widgets/base",
          "model_name": "LayoutModel",
          "state": {
            "_view_name": "LayoutView",
            "grid_template_rows": null,
            "right": null,
            "justify_content": null,
            "_view_module": "@jupyter-widgets/base",
            "overflow": null,
            "_model_module_version": "1.2.0",
            "_view_count": null,
            "flex_flow": null,
            "width": null,
            "min_width": null,
            "border": null,
            "align_items": null,
            "bottom": null,
            "_model_module": "@jupyter-widgets/base",
            "top": null,
            "grid_column": null,
            "overflow_y": null,
            "overflow_x": null,
            "grid_auto_flow": null,
            "grid_area": null,
            "grid_template_columns": null,
            "flex": null,
            "_model_name": "LayoutModel",
            "justify_items": null,
            "grid_row": null,
            "max_height": null,
            "align_content": null,
            "visibility": null,
            "align_self": null,
            "height": null,
            "min_height": null,
            "padding": null,
            "grid_auto_rows": null,
            "grid_gap": null,
            "max_width": null,
            "order": null,
            "_view_module_version": "1.2.0",
            "grid_template_areas": null,
            "object_position": null,
            "object_fit": null,
            "grid_auto_columns": null,
            "margin": null,
            "display": null,
            "left": null
          }
        },
        "c887859c0fc6462e9519fdcc292f8ff7": {
          "model_module": "@jupyter-widgets/controls",
          "model_name": "FloatProgressModel",
          "state": {
            "_view_name": "ProgressView",
            "style": "IPY_MODEL_cbbb450fb5634900b1ccf292685e7007",
            "_dom_classes": [],
            "description": "",
            "_model_name": "FloatProgressModel",
            "bar_style": "success",
            "max": 1,
            "_view_module": "@jupyter-widgets/controls",
            "_model_module_version": "1.5.0",
            "value": 1,
            "_view_count": null,
            "_view_module_version": "1.5.0",
            "orientation": "horizontal",
            "min": 0,
            "description_tooltip": null,
            "_model_module": "@jupyter-widgets/controls",
            "layout": "IPY_MODEL_80242363e53d46c2b831a551c77df7b3"
          }
        },
        "efc4875595f34fc8bfcf21f8dd3f20f7": {
          "model_module": "@jupyter-widgets/controls",
          "model_name": "HTMLModel",
          "state": {
            "_view_name": "HTMLView",
            "style": "IPY_MODEL_84448c1151ab410dad6c0fcb0e040625",
            "_dom_classes": [],
            "description": "",
            "_model_name": "HTMLModel",
            "placeholder": "​",
            "_view_module": "@jupyter-widgets/controls",
            "_model_module_version": "1.5.0",
            "value": " 9920512/? [00:08&lt;00:00, 1126482.22it/s]",
            "_view_count": null,
            "_view_module_version": "1.5.0",
            "description_tooltip": null,
            "_model_module": "@jupyter-widgets/controls",
            "layout": "IPY_MODEL_26e2103b07ce4775946764c868e13045"
          }
        },
        "cbbb450fb5634900b1ccf292685e7007": {
          "model_module": "@jupyter-widgets/controls",
          "model_name": "ProgressStyleModel",
          "state": {
            "_view_name": "StyleView",
            "_model_name": "ProgressStyleModel",
            "description_width": "initial",
            "_view_module": "@jupyter-widgets/base",
            "_model_module_version": "1.5.0",
            "_view_count": null,
            "_view_module_version": "1.2.0",
            "bar_color": null,
            "_model_module": "@jupyter-widgets/controls"
          }
        },
        "80242363e53d46c2b831a551c77df7b3": {
          "model_module": "@jupyter-widgets/base",
          "model_name": "LayoutModel",
          "state": {
            "_view_name": "LayoutView",
            "grid_template_rows": null,
            "right": null,
            "justify_content": null,
            "_view_module": "@jupyter-widgets/base",
            "overflow": null,
            "_model_module_version": "1.2.0",
            "_view_count": null,
            "flex_flow": null,
            "width": null,
            "min_width": null,
            "border": null,
            "align_items": null,
            "bottom": null,
            "_model_module": "@jupyter-widgets/base",
            "top": null,
            "grid_column": null,
            "overflow_y": null,
            "overflow_x": null,
            "grid_auto_flow": null,
            "grid_area": null,
            "grid_template_columns": null,
            "flex": null,
            "_model_name": "LayoutModel",
            "justify_items": null,
            "grid_row": null,
            "max_height": null,
            "align_content": null,
            "visibility": null,
            "align_self": null,
            "height": null,
            "min_height": null,
            "padding": null,
            "grid_auto_rows": null,
            "grid_gap": null,
            "max_width": null,
            "order": null,
            "_view_module_version": "1.2.0",
            "grid_template_areas": null,
            "object_position": null,
            "object_fit": null,
            "grid_auto_columns": null,
            "margin": null,
            "display": null,
            "left": null
          }
        },
        "84448c1151ab410dad6c0fcb0e040625": {
          "model_module": "@jupyter-widgets/controls",
          "model_name": "DescriptionStyleModel",
          "state": {
            "_view_name": "StyleView",
            "_model_name": "DescriptionStyleModel",
            "description_width": "",
            "_view_module": "@jupyter-widgets/base",
            "_model_module_version": "1.5.0",
            "_view_count": null,
            "_view_module_version": "1.2.0",
            "_model_module": "@jupyter-widgets/controls"
          }
        },
        "26e2103b07ce4775946764c868e13045": {
          "model_module": "@jupyter-widgets/base",
          "model_name": "LayoutModel",
          "state": {
            "_view_name": "LayoutView",
            "grid_template_rows": null,
            "right": null,
            "justify_content": null,
            "_view_module": "@jupyter-widgets/base",
            "overflow": null,
            "_model_module_version": "1.2.0",
            "_view_count": null,
            "flex_flow": null,
            "width": null,
            "min_width": null,
            "border": null,
            "align_items": null,
            "bottom": null,
            "_model_module": "@jupyter-widgets/base",
            "top": null,
            "grid_column": null,
            "overflow_y": null,
            "overflow_x": null,
            "grid_auto_flow": null,
            "grid_area": null,
            "grid_template_columns": null,
            "flex": null,
            "_model_name": "LayoutModel",
            "justify_items": null,
            "grid_row": null,
            "max_height": null,
            "align_content": null,
            "visibility": null,
            "align_self": null,
            "height": null,
            "min_height": null,
            "padding": null,
            "grid_auto_rows": null,
            "grid_gap": null,
            "max_width": null,
            "order": null,
            "_view_module_version": "1.2.0",
            "grid_template_areas": null,
            "object_position": null,
            "object_fit": null,
            "grid_auto_columns": null,
            "margin": null,
            "display": null,
            "left": null
          }
        },
        "d169ba40c4624e1e978e7b90dd1702fd": {
          "model_module": "@jupyter-widgets/controls",
          "model_name": "HBoxModel",
          "state": {
            "_view_name": "HBoxView",
            "_dom_classes": [],
            "_model_name": "HBoxModel",
            "_view_module": "@jupyter-widgets/controls",
            "_model_module_version": "1.5.0",
            "_view_count": null,
            "_view_module_version": "1.5.0",
            "box_style": "",
            "layout": "IPY_MODEL_25cb2e272ad647619b5cb16edf7b6b10",
            "_model_module": "@jupyter-widgets/controls",
            "children": [
              "IPY_MODEL_1743778befdd4a8d8b46389774873e95",
              "IPY_MODEL_0de98aa7cfec405fae4d66d23167737e"
            ]
          }
        },
        "25cb2e272ad647619b5cb16edf7b6b10": {
          "model_module": "@jupyter-widgets/base",
          "model_name": "LayoutModel",
          "state": {
            "_view_name": "LayoutView",
            "grid_template_rows": null,
            "right": null,
            "justify_content": null,
            "_view_module": "@jupyter-widgets/base",
            "overflow": null,
            "_model_module_version": "1.2.0",
            "_view_count": null,
            "flex_flow": null,
            "width": null,
            "min_width": null,
            "border": null,
            "align_items": null,
            "bottom": null,
            "_model_module": "@jupyter-widgets/base",
            "top": null,
            "grid_column": null,
            "overflow_y": null,
            "overflow_x": null,
            "grid_auto_flow": null,
            "grid_area": null,
            "grid_template_columns": null,
            "flex": null,
            "_model_name": "LayoutModel",
            "justify_items": null,
            "grid_row": null,
            "max_height": null,
            "align_content": null,
            "visibility": null,
            "align_self": null,
            "height": null,
            "min_height": null,
            "padding": null,
            "grid_auto_rows": null,
            "grid_gap": null,
            "max_width": null,
            "order": null,
            "_view_module_version": "1.2.0",
            "grid_template_areas": null,
            "object_position": null,
            "object_fit": null,
            "grid_auto_columns": null,
            "margin": null,
            "display": null,
            "left": null
          }
        },
        "1743778befdd4a8d8b46389774873e95": {
          "model_module": "@jupyter-widgets/controls",
          "model_name": "FloatProgressModel",
          "state": {
            "_view_name": "ProgressView",
            "style": "IPY_MODEL_b1868760c3a1489390b38bf6a448b252",
            "_dom_classes": [],
            "description": "",
            "_model_name": "FloatProgressModel",
            "bar_style": "success",
            "max": 1,
            "_view_module": "@jupyter-widgets/controls",
            "_model_module_version": "1.5.0",
            "value": 1,
            "_view_count": null,
            "_view_module_version": "1.5.0",
            "orientation": "horizontal",
            "min": 0,
            "description_tooltip": null,
            "_model_module": "@jupyter-widgets/controls",
            "layout": "IPY_MODEL_7529d8d0c283483d91e80de8a6534f14"
          }
        },
        "0de98aa7cfec405fae4d66d23167737e": {
          "model_module": "@jupyter-widgets/controls",
          "model_name": "HTMLModel",
          "state": {
            "_view_name": "HTMLView",
            "style": "IPY_MODEL_174e52ca454a4e13ad9ee34d605829fd",
            "_dom_classes": [],
            "description": "",
            "_model_name": "HTMLModel",
            "placeholder": "​",
            "_view_module": "@jupyter-widgets/controls",
            "_model_module_version": "1.5.0",
            "value": " 32768/? [00:01&lt;00:00, 31809.12it/s]",
            "_view_count": null,
            "_view_module_version": "1.5.0",
            "description_tooltip": null,
            "_model_module": "@jupyter-widgets/controls",
            "layout": "IPY_MODEL_32ed00a040f1421d963f71ce967bb334"
          }
        },
        "b1868760c3a1489390b38bf6a448b252": {
          "model_module": "@jupyter-widgets/controls",
          "model_name": "ProgressStyleModel",
          "state": {
            "_view_name": "StyleView",
            "_model_name": "ProgressStyleModel",
            "description_width": "initial",
            "_view_module": "@jupyter-widgets/base",
            "_model_module_version": "1.5.0",
            "_view_count": null,
            "_view_module_version": "1.2.0",
            "bar_color": null,
            "_model_module": "@jupyter-widgets/controls"
          }
        },
        "7529d8d0c283483d91e80de8a6534f14": {
          "model_module": "@jupyter-widgets/base",
          "model_name": "LayoutModel",
          "state": {
            "_view_name": "LayoutView",
            "grid_template_rows": null,
            "right": null,
            "justify_content": null,
            "_view_module": "@jupyter-widgets/base",
            "overflow": null,
            "_model_module_version": "1.2.0",
            "_view_count": null,
            "flex_flow": null,
            "width": null,
            "min_width": null,
            "border": null,
            "align_items": null,
            "bottom": null,
            "_model_module": "@jupyter-widgets/base",
            "top": null,
            "grid_column": null,
            "overflow_y": null,
            "overflow_x": null,
            "grid_auto_flow": null,
            "grid_area": null,
            "grid_template_columns": null,
            "flex": null,
            "_model_name": "LayoutModel",
            "justify_items": null,
            "grid_row": null,
            "max_height": null,
            "align_content": null,
            "visibility": null,
            "align_self": null,
            "height": null,
            "min_height": null,
            "padding": null,
            "grid_auto_rows": null,
            "grid_gap": null,
            "max_width": null,
            "order": null,
            "_view_module_version": "1.2.0",
            "grid_template_areas": null,
            "object_position": null,
            "object_fit": null,
            "grid_auto_columns": null,
            "margin": null,
            "display": null,
            "left": null
          }
        },
        "174e52ca454a4e13ad9ee34d605829fd": {
          "model_module": "@jupyter-widgets/controls",
          "model_name": "DescriptionStyleModel",
          "state": {
            "_view_name": "StyleView",
            "_model_name": "DescriptionStyleModel",
            "description_width": "",
            "_view_module": "@jupyter-widgets/base",
            "_model_module_version": "1.5.0",
            "_view_count": null,
            "_view_module_version": "1.2.0",
            "_model_module": "@jupyter-widgets/controls"
          }
        },
        "32ed00a040f1421d963f71ce967bb334": {
          "model_module": "@jupyter-widgets/base",
          "model_name": "LayoutModel",
          "state": {
            "_view_name": "LayoutView",
            "grid_template_rows": null,
            "right": null,
            "justify_content": null,
            "_view_module": "@jupyter-widgets/base",
            "overflow": null,
            "_model_module_version": "1.2.0",
            "_view_count": null,
            "flex_flow": null,
            "width": null,
            "min_width": null,
            "border": null,
            "align_items": null,
            "bottom": null,
            "_model_module": "@jupyter-widgets/base",
            "top": null,
            "grid_column": null,
            "overflow_y": null,
            "overflow_x": null,
            "grid_auto_flow": null,
            "grid_area": null,
            "grid_template_columns": null,
            "flex": null,
            "_model_name": "LayoutModel",
            "justify_items": null,
            "grid_row": null,
            "max_height": null,
            "align_content": null,
            "visibility": null,
            "align_self": null,
            "height": null,
            "min_height": null,
            "padding": null,
            "grid_auto_rows": null,
            "grid_gap": null,
            "max_width": null,
            "order": null,
            "_view_module_version": "1.2.0",
            "grid_template_areas": null,
            "object_position": null,
            "object_fit": null,
            "grid_auto_columns": null,
            "margin": null,
            "display": null,
            "left": null
          }
        },
        "d7a972476f2a4c7f8a007329891a8344": {
          "model_module": "@jupyter-widgets/controls",
          "model_name": "HBoxModel",
          "state": {
            "_view_name": "HBoxView",
            "_dom_classes": [],
            "_model_name": "HBoxModel",
            "_view_module": "@jupyter-widgets/controls",
            "_model_module_version": "1.5.0",
            "_view_count": null,
            "_view_module_version": "1.5.0",
            "box_style": "",
            "layout": "IPY_MODEL_907cb3b9d45a47d6a346e7e59a9ce508",
            "_model_module": "@jupyter-widgets/controls",
            "children": [
              "IPY_MODEL_634b784af0c745e3839837019c2435d7",
              "IPY_MODEL_255d2e026057406ba6866f8e93be6a42"
            ]
          }
        },
        "907cb3b9d45a47d6a346e7e59a9ce508": {
          "model_module": "@jupyter-widgets/base",
          "model_name": "LayoutModel",
          "state": {
            "_view_name": "LayoutView",
            "grid_template_rows": null,
            "right": null,
            "justify_content": null,
            "_view_module": "@jupyter-widgets/base",
            "overflow": null,
            "_model_module_version": "1.2.0",
            "_view_count": null,
            "flex_flow": null,
            "width": null,
            "min_width": null,
            "border": null,
            "align_items": null,
            "bottom": null,
            "_model_module": "@jupyter-widgets/base",
            "top": null,
            "grid_column": null,
            "overflow_y": null,
            "overflow_x": null,
            "grid_auto_flow": null,
            "grid_area": null,
            "grid_template_columns": null,
            "flex": null,
            "_model_name": "LayoutModel",
            "justify_items": null,
            "grid_row": null,
            "max_height": null,
            "align_content": null,
            "visibility": null,
            "align_self": null,
            "height": null,
            "min_height": null,
            "padding": null,
            "grid_auto_rows": null,
            "grid_gap": null,
            "max_width": null,
            "order": null,
            "_view_module_version": "1.2.0",
            "grid_template_areas": null,
            "object_position": null,
            "object_fit": null,
            "grid_auto_columns": null,
            "margin": null,
            "display": null,
            "left": null
          }
        },
        "634b784af0c745e3839837019c2435d7": {
          "model_module": "@jupyter-widgets/controls",
          "model_name": "FloatProgressModel",
          "state": {
            "_view_name": "ProgressView",
            "style": "IPY_MODEL_ceb9b6dd7a874f168c57ca10cebfc881",
            "_dom_classes": [],
            "description": "",
            "_model_name": "FloatProgressModel",
            "bar_style": "success",
            "max": 1,
            "_view_module": "@jupyter-widgets/controls",
            "_model_module_version": "1.5.0",
            "value": 1,
            "_view_count": null,
            "_view_module_version": "1.5.0",
            "orientation": "horizontal",
            "min": 0,
            "description_tooltip": null,
            "_model_module": "@jupyter-widgets/controls",
            "layout": "IPY_MODEL_581876f50350470a97784a39d5c46c65"
          }
        },
        "255d2e026057406ba6866f8e93be6a42": {
          "model_module": "@jupyter-widgets/controls",
          "model_name": "HTMLModel",
          "state": {
            "_view_name": "HTMLView",
            "style": "IPY_MODEL_4aa367ba719d43f3ad0af2cd996128db",
            "_dom_classes": [],
            "description": "",
            "_model_name": "HTMLModel",
            "placeholder": "​",
            "_view_module": "@jupyter-widgets/controls",
            "_model_module_version": "1.5.0",
            "value": " 1654784/? [00:00&lt;00:00, 2262997.34it/s]",
            "_view_count": null,
            "_view_module_version": "1.5.0",
            "description_tooltip": null,
            "_model_module": "@jupyter-widgets/controls",
            "layout": "IPY_MODEL_1173013944e3435485f1dfd8993c77cb"
          }
        },
        "ceb9b6dd7a874f168c57ca10cebfc881": {
          "model_module": "@jupyter-widgets/controls",
          "model_name": "ProgressStyleModel",
          "state": {
            "_view_name": "StyleView",
            "_model_name": "ProgressStyleModel",
            "description_width": "initial",
            "_view_module": "@jupyter-widgets/base",
            "_model_module_version": "1.5.0",
            "_view_count": null,
            "_view_module_version": "1.2.0",
            "bar_color": null,
            "_model_module": "@jupyter-widgets/controls"
          }
        },
        "581876f50350470a97784a39d5c46c65": {
          "model_module": "@jupyter-widgets/base",
          "model_name": "LayoutModel",
          "state": {
            "_view_name": "LayoutView",
            "grid_template_rows": null,
            "right": null,
            "justify_content": null,
            "_view_module": "@jupyter-widgets/base",
            "overflow": null,
            "_model_module_version": "1.2.0",
            "_view_count": null,
            "flex_flow": null,
            "width": null,
            "min_width": null,
            "border": null,
            "align_items": null,
            "bottom": null,
            "_model_module": "@jupyter-widgets/base",
            "top": null,
            "grid_column": null,
            "overflow_y": null,
            "overflow_x": null,
            "grid_auto_flow": null,
            "grid_area": null,
            "grid_template_columns": null,
            "flex": null,
            "_model_name": "LayoutModel",
            "justify_items": null,
            "grid_row": null,
            "max_height": null,
            "align_content": null,
            "visibility": null,
            "align_self": null,
            "height": null,
            "min_height": null,
            "padding": null,
            "grid_auto_rows": null,
            "grid_gap": null,
            "max_width": null,
            "order": null,
            "_view_module_version": "1.2.0",
            "grid_template_areas": null,
            "object_position": null,
            "object_fit": null,
            "grid_auto_columns": null,
            "margin": null,
            "display": null,
            "left": null
          }
        },
        "4aa367ba719d43f3ad0af2cd996128db": {
          "model_module": "@jupyter-widgets/controls",
          "model_name": "DescriptionStyleModel",
          "state": {
            "_view_name": "StyleView",
            "_model_name": "DescriptionStyleModel",
            "description_width": "",
            "_view_module": "@jupyter-widgets/base",
            "_model_module_version": "1.5.0",
            "_view_count": null,
            "_view_module_version": "1.2.0",
            "_model_module": "@jupyter-widgets/controls"
          }
        },
        "1173013944e3435485f1dfd8993c77cb": {
          "model_module": "@jupyter-widgets/base",
          "model_name": "LayoutModel",
          "state": {
            "_view_name": "LayoutView",
            "grid_template_rows": null,
            "right": null,
            "justify_content": null,
            "_view_module": "@jupyter-widgets/base",
            "overflow": null,
            "_model_module_version": "1.2.0",
            "_view_count": null,
            "flex_flow": null,
            "width": null,
            "min_width": null,
            "border": null,
            "align_items": null,
            "bottom": null,
            "_model_module": "@jupyter-widgets/base",
            "top": null,
            "grid_column": null,
            "overflow_y": null,
            "overflow_x": null,
            "grid_auto_flow": null,
            "grid_area": null,
            "grid_template_columns": null,
            "flex": null,
            "_model_name": "LayoutModel",
            "justify_items": null,
            "grid_row": null,
            "max_height": null,
            "align_content": null,
            "visibility": null,
            "align_self": null,
            "height": null,
            "min_height": null,
            "padding": null,
            "grid_auto_rows": null,
            "grid_gap": null,
            "max_width": null,
            "order": null,
            "_view_module_version": "1.2.0",
            "grid_template_areas": null,
            "object_position": null,
            "object_fit": null,
            "grid_auto_columns": null,
            "margin": null,
            "display": null,
            "left": null
          }
        },
        "4f46ab1703274436b42afe73a65c58f0": {
          "model_module": "@jupyter-widgets/controls",
          "model_name": "HBoxModel",
          "state": {
            "_view_name": "HBoxView",
            "_dom_classes": [],
            "_model_name": "HBoxModel",
            "_view_module": "@jupyter-widgets/controls",
            "_model_module_version": "1.5.0",
            "_view_count": null,
            "_view_module_version": "1.5.0",
            "box_style": "",
            "layout": "IPY_MODEL_2bd3630adaac475cb51eb6fc4493feb4",
            "_model_module": "@jupyter-widgets/controls",
            "children": [
              "IPY_MODEL_c3ba2d9023f842b4ad587d07eee1631c",
              "IPY_MODEL_6edf75a4227d43c0b27dbbb1e52d7a00"
            ]
          }
        },
        "2bd3630adaac475cb51eb6fc4493feb4": {
          "model_module": "@jupyter-widgets/base",
          "model_name": "LayoutModel",
          "state": {
            "_view_name": "LayoutView",
            "grid_template_rows": null,
            "right": null,
            "justify_content": null,
            "_view_module": "@jupyter-widgets/base",
            "overflow": null,
            "_model_module_version": "1.2.0",
            "_view_count": null,
            "flex_flow": null,
            "width": null,
            "min_width": null,
            "border": null,
            "align_items": null,
            "bottom": null,
            "_model_module": "@jupyter-widgets/base",
            "top": null,
            "grid_column": null,
            "overflow_y": null,
            "overflow_x": null,
            "grid_auto_flow": null,
            "grid_area": null,
            "grid_template_columns": null,
            "flex": null,
            "_model_name": "LayoutModel",
            "justify_items": null,
            "grid_row": null,
            "max_height": null,
            "align_content": null,
            "visibility": null,
            "align_self": null,
            "height": null,
            "min_height": null,
            "padding": null,
            "grid_auto_rows": null,
            "grid_gap": null,
            "max_width": null,
            "order": null,
            "_view_module_version": "1.2.0",
            "grid_template_areas": null,
            "object_position": null,
            "object_fit": null,
            "grid_auto_columns": null,
            "margin": null,
            "display": null,
            "left": null
          }
        },
        "c3ba2d9023f842b4ad587d07eee1631c": {
          "model_module": "@jupyter-widgets/controls",
          "model_name": "FloatProgressModel",
          "state": {
            "_view_name": "ProgressView",
            "style": "IPY_MODEL_e6b98d014d2745cd935e512e18b2cf86",
            "_dom_classes": [],
            "description": "",
            "_model_name": "FloatProgressModel",
            "bar_style": "success",
            "max": 1,
            "_view_module": "@jupyter-widgets/controls",
            "_model_module_version": "1.5.0",
            "value": 1,
            "_view_count": null,
            "_view_module_version": "1.5.0",
            "orientation": "horizontal",
            "min": 0,
            "description_tooltip": null,
            "_model_module": "@jupyter-widgets/controls",
            "layout": "IPY_MODEL_58684aad3e8c4875a742515b35b93ac8"
          }
        },
        "6edf75a4227d43c0b27dbbb1e52d7a00": {
          "model_module": "@jupyter-widgets/controls",
          "model_name": "HTMLModel",
          "state": {
            "_view_name": "HTMLView",
            "style": "IPY_MODEL_3bdf5fad9c5340b68d21b4025b89c5a6",
            "_dom_classes": [],
            "description": "",
            "_model_name": "HTMLModel",
            "placeholder": "​",
            "_view_module": "@jupyter-widgets/controls",
            "_model_module_version": "1.5.0",
            "value": " 8192/? [00:06&lt;00:00, 1343.08it/s]",
            "_view_count": null,
            "_view_module_version": "1.5.0",
            "description_tooltip": null,
            "_model_module": "@jupyter-widgets/controls",
            "layout": "IPY_MODEL_586b6ad360f04716a11ed65c15142024"
          }
        },
        "e6b98d014d2745cd935e512e18b2cf86": {
          "model_module": "@jupyter-widgets/controls",
          "model_name": "ProgressStyleModel",
          "state": {
            "_view_name": "StyleView",
            "_model_name": "ProgressStyleModel",
            "description_width": "initial",
            "_view_module": "@jupyter-widgets/base",
            "_model_module_version": "1.5.0",
            "_view_count": null,
            "_view_module_version": "1.2.0",
            "bar_color": null,
            "_model_module": "@jupyter-widgets/controls"
          }
        },
        "58684aad3e8c4875a742515b35b93ac8": {
          "model_module": "@jupyter-widgets/base",
          "model_name": "LayoutModel",
          "state": {
            "_view_name": "LayoutView",
            "grid_template_rows": null,
            "right": null,
            "justify_content": null,
            "_view_module": "@jupyter-widgets/base",
            "overflow": null,
            "_model_module_version": "1.2.0",
            "_view_count": null,
            "flex_flow": null,
            "width": null,
            "min_width": null,
            "border": null,
            "align_items": null,
            "bottom": null,
            "_model_module": "@jupyter-widgets/base",
            "top": null,
            "grid_column": null,
            "overflow_y": null,
            "overflow_x": null,
            "grid_auto_flow": null,
            "grid_area": null,
            "grid_template_columns": null,
            "flex": null,
            "_model_name": "LayoutModel",
            "justify_items": null,
            "grid_row": null,
            "max_height": null,
            "align_content": null,
            "visibility": null,
            "align_self": null,
            "height": null,
            "min_height": null,
            "padding": null,
            "grid_auto_rows": null,
            "grid_gap": null,
            "max_width": null,
            "order": null,
            "_view_module_version": "1.2.0",
            "grid_template_areas": null,
            "object_position": null,
            "object_fit": null,
            "grid_auto_columns": null,
            "margin": null,
            "display": null,
            "left": null
          }
        },
        "3bdf5fad9c5340b68d21b4025b89c5a6": {
          "model_module": "@jupyter-widgets/controls",
          "model_name": "DescriptionStyleModel",
          "state": {
            "_view_name": "StyleView",
            "_model_name": "DescriptionStyleModel",
            "description_width": "",
            "_view_module": "@jupyter-widgets/base",
            "_model_module_version": "1.5.0",
            "_view_count": null,
            "_view_module_version": "1.2.0",
            "_model_module": "@jupyter-widgets/controls"
          }
        },
        "586b6ad360f04716a11ed65c15142024": {
          "model_module": "@jupyter-widgets/base",
          "model_name": "LayoutModel",
          "state": {
            "_view_name": "LayoutView",
            "grid_template_rows": null,
            "right": null,
            "justify_content": null,
            "_view_module": "@jupyter-widgets/base",
            "overflow": null,
            "_model_module_version": "1.2.0",
            "_view_count": null,
            "flex_flow": null,
            "width": null,
            "min_width": null,
            "border": null,
            "align_items": null,
            "bottom": null,
            "_model_module": "@jupyter-widgets/base",
            "top": null,
            "grid_column": null,
            "overflow_y": null,
            "overflow_x": null,
            "grid_auto_flow": null,
            "grid_area": null,
            "grid_template_columns": null,
            "flex": null,
            "_model_name": "LayoutModel",
            "justify_items": null,
            "grid_row": null,
            "max_height": null,
            "align_content": null,
            "visibility": null,
            "align_self": null,
            "height": null,
            "min_height": null,
            "padding": null,
            "grid_auto_rows": null,
            "grid_gap": null,
            "max_width": null,
            "order": null,
            "_view_module_version": "1.2.0",
            "grid_template_areas": null,
            "object_position": null,
            "object_fit": null,
            "grid_auto_columns": null,
            "margin": null,
            "display": null,
            "left": null
          }
        }
      }
    }
  },
  "cells": [
    {
      "cell_type": "code",
      "metadata": {
        "id": "YeQ8aaCH09uT",
        "colab_type": "code",
        "colab": {
          "base_uri": "https://localhost:8080/",
          "height": 70
        },
        "outputId": "1eff71d7-ca11-467a-a3a1-f1b8e2f03f52"
      },
      "source": [
        "import matplotlib.pyplot as plt\n",
        "import numpy as np\n",
        "import torch\n",
        "import torch.nn as nn\n",
        "import torch.nn.functional as F\n",
        "from torchvision import datasets, transforms\n",
        "# These packages are required by the visualization utils\n",
        "import seaborn as sns  \n",
        "from sklearn.manifold import TSNE\n",
        "\n",
        "import vae_utils"
      ],
      "execution_count": 1,
      "outputs": [
        {
          "output_type": "stream",
          "text": [
            "/usr/local/lib/python3.6/dist-packages/statsmodels/tools/_testing.py:19: FutureWarning: pandas.util.testing is deprecated. Use the functions in the public API at pandas.testing instead.\n",
            "  import pandas.util.testing as tm\n"
          ],
          "name": "stderr"
        }
      ]
    },
    {
      "cell_type": "markdown",
      "metadata": {
        "id": "3GI2Zlax09ub",
        "colab_type": "text"
      },
      "source": [
        "# Project 1, part 2: Variational Autoencoder (60 pt)\n",
        "In this notebook you will implement the Variational Autoencoder (VAE) that we discussed in Lecture 3.\n",
        "\n",
        "## Your task\n",
        "Complete the missing code. Make sure that all the functions follow the provided specification, i.e. the output of the function exactly matches the description in the docstring. \n",
        "\n",
        "Do not add or modify any code outside of the following comment blocks\n",
        "```\n",
        "##########################################################\n",
        "# YOUR CODE HERE\n",
        ".....\n",
        "##########################################################\n",
        "```\n",
        "After you fill in all the missing code, restart the kernel and re-run all the cells in the notebook.\n",
        "\n",
        "\n",
        "The following things are **NOT** allowed:\n",
        "- Using additional `import` statements\n",
        "- Using the `torch.distributions` package\n",
        "- Copying / reusing code from other sources (e.g. code by other students)\n",
        "\n",
        "If you plagiarise even for a single project task, you won't be eligible for the bonus this semester."
      ]
    },
    {
      "cell_type": "markdown",
      "metadata": {
        "id": "NgP2kNkV09ud",
        "colab_type": "text"
      },
      "source": [
        "## Load the MNIST dataset"
      ]
    },
    {
      "cell_type": "code",
      "metadata": {
        "id": "g8RA-FUO09ue",
        "colab_type": "code",
        "colab": {
          "base_uri": "https://localhost:8080/",
          "height": 376,
          "referenced_widgets": [
            "e2994ce8beed4571b5ee36c487ffd0af",
            "e8532face07f4728bbd393b32d2c831d",
            "c887859c0fc6462e9519fdcc292f8ff7",
            "efc4875595f34fc8bfcf21f8dd3f20f7",
            "cbbb450fb5634900b1ccf292685e7007",
            "80242363e53d46c2b831a551c77df7b3",
            "84448c1151ab410dad6c0fcb0e040625",
            "26e2103b07ce4775946764c868e13045",
            "d169ba40c4624e1e978e7b90dd1702fd",
            "25cb2e272ad647619b5cb16edf7b6b10",
            "1743778befdd4a8d8b46389774873e95",
            "0de98aa7cfec405fae4d66d23167737e",
            "b1868760c3a1489390b38bf6a448b252",
            "7529d8d0c283483d91e80de8a6534f14",
            "174e52ca454a4e13ad9ee34d605829fd",
            "32ed00a040f1421d963f71ce967bb334",
            "d7a972476f2a4c7f8a007329891a8344",
            "907cb3b9d45a47d6a346e7e59a9ce508",
            "634b784af0c745e3839837019c2435d7",
            "255d2e026057406ba6866f8e93be6a42",
            "ceb9b6dd7a874f168c57ca10cebfc881",
            "581876f50350470a97784a39d5c46c65",
            "4aa367ba719d43f3ad0af2cd996128db",
            "1173013944e3435485f1dfd8993c77cb",
            "4f46ab1703274436b42afe73a65c58f0",
            "2bd3630adaac475cb51eb6fc4493feb4",
            "c3ba2d9023f842b4ad587d07eee1631c",
            "6edf75a4227d43c0b27dbbb1e52d7a00",
            "e6b98d014d2745cd935e512e18b2cf86",
            "58684aad3e8c4875a742515b35b93ac8",
            "3bdf5fad9c5340b68d21b4025b89c5a6",
            "586b6ad360f04716a11ed65c15142024"
          ]
        },
        "outputId": "e13b0662-8940-4ff5-a61b-6483199647cf"
      },
      "source": [
        "device = 'cuda'\n",
        "# device = 'cpu'  # uncomment this line to run the model on the CPU\n",
        "batch_size = 128\n",
        "dataset = datasets.MNIST \n",
        "if device == 'cuda':\n",
        "    train_loader = torch.utils.data.DataLoader(\n",
        "        dataset('data', train=True, download=True, transform=transforms.ToTensor()),\n",
        "        batch_size=batch_size, shuffle=True, num_workers=1, pin_memory=True\n",
        "    )\n",
        "    test_loader = torch.utils.data.DataLoader(\n",
        "        dataset('data', train=False, download=True, transform=transforms.ToTensor()),\n",
        "        batch_size=1000, shuffle=True, num_workers=1, pin_memory=True\n",
        "    )\n",
        "elif device == 'cpu':\n",
        "    train_loader = torch.utils.data.DataLoader(\n",
        "        dataset('data', train=True, download=True, transform=transforms.ToTensor()),\n",
        "        batch_size=batch_size, shuffle=True,\n",
        "    )\n",
        "    test_loader = torch.utils.data.DataLoader(\n",
        "        dataset('data', train=False, download=True, transform=transforms.ToTensor()),\n",
        "        batch_size=1000, shuffle=True,\n",
        "    )\n"
      ],
      "execution_count": 2,
      "outputs": [
        {
          "output_type": "stream",
          "text": [
            "Downloading http://yann.lecun.com/exdb/mnist/train-images-idx3-ubyte.gz to data/MNIST/raw/train-images-idx3-ubyte.gz\n"
          ],
          "name": "stdout"
        },
        {
          "output_type": "display_data",
          "data": {
            "application/vnd.jupyter.widget-view+json": {
              "model_id": "e2994ce8beed4571b5ee36c487ffd0af",
              "version_minor": 0,
              "version_major": 2
            },
            "text/plain": [
              "HBox(children=(FloatProgress(value=1.0, bar_style='info', max=1.0), HTML(value='')))"
            ]
          },
          "metadata": {
            "tags": []
          }
        },
        {
          "output_type": "stream",
          "text": [
            "Extracting data/MNIST/raw/train-images-idx3-ubyte.gz to data/MNIST/raw\n",
            "Downloading http://yann.lecun.com/exdb/mnist/train-labels-idx1-ubyte.gz to data/MNIST/raw/train-labels-idx1-ubyte.gz\n"
          ],
          "name": "stdout"
        },
        {
          "output_type": "display_data",
          "data": {
            "application/vnd.jupyter.widget-view+json": {
              "model_id": "d169ba40c4624e1e978e7b90dd1702fd",
              "version_minor": 0,
              "version_major": 2
            },
            "text/plain": [
              "HBox(children=(FloatProgress(value=1.0, bar_style='info', max=1.0), HTML(value='')))"
            ]
          },
          "metadata": {
            "tags": []
          }
        },
        {
          "output_type": "stream",
          "text": [
            "Extracting data/MNIST/raw/train-labels-idx1-ubyte.gz to data/MNIST/raw\n",
            "Downloading http://yann.lecun.com/exdb/mnist/t10k-images-idx3-ubyte.gz to data/MNIST/raw/t10k-images-idx3-ubyte.gz\n"
          ],
          "name": "stdout"
        },
        {
          "output_type": "display_data",
          "data": {
            "application/vnd.jupyter.widget-view+json": {
              "model_id": "d7a972476f2a4c7f8a007329891a8344",
              "version_minor": 0,
              "version_major": 2
            },
            "text/plain": [
              "HBox(children=(FloatProgress(value=1.0, bar_style='info', max=1.0), HTML(value='')))"
            ]
          },
          "metadata": {
            "tags": []
          }
        },
        {
          "output_type": "stream",
          "text": [
            "Extracting data/MNIST/raw/t10k-images-idx3-ubyte.gz to data/MNIST/raw\n",
            "Downloading http://yann.lecun.com/exdb/mnist/t10k-labels-idx1-ubyte.gz to data/MNIST/raw/t10k-labels-idx1-ubyte.gz\n",
            "\n",
            "\n"
          ],
          "name": "stdout"
        },
        {
          "output_type": "display_data",
          "data": {
            "application/vnd.jupyter.widget-view+json": {
              "model_id": "4f46ab1703274436b42afe73a65c58f0",
              "version_minor": 0,
              "version_major": 2
            },
            "text/plain": [
              "HBox(children=(FloatProgress(value=1.0, bar_style='info', max=1.0), HTML(value='')))"
            ]
          },
          "metadata": {
            "tags": []
          }
        },
        {
          "output_type": "stream",
          "text": [
            "Extracting data/MNIST/raw/t10k-labels-idx1-ubyte.gz to data/MNIST/raw\n",
            "Processing...\n",
            "Done!\n"
          ],
          "name": "stdout"
        },
        {
          "output_type": "stream",
          "text": [
            "/pytorch/torch/csrc/utils/tensor_numpy.cpp:141: UserWarning: The given NumPy array is not writeable, and PyTorch does not support non-writeable tensors. This means you can write to the underlying (supposedly non-writeable) NumPy array using the tensor. You may want to copy the array to protect its data or make it writeable before converting it to a tensor. This type of warning will be suppressed for the rest of this program.\n"
          ],
          "name": "stderr"
        }
      ]
    },
    {
      "cell_type": "code",
      "metadata": {
        "scrolled": true,
        "id": "PZwJcOoY09uk",
        "colab_type": "code",
        "colab": {
          "base_uri": "https://localhost:8080/",
          "height": 310
        },
        "outputId": "f0b9818b-ecef-491f-a0f4-3af439e07064"
      },
      "source": [
        "# Visualize a few random samples from the dataset\n",
        "vae_utils.visualize_mnist(train_loader)"
      ],
      "execution_count": 3,
      "outputs": [
        {
          "output_type": "stream",
          "text": [
            "\n",
            "\n"
          ],
          "name": "stdout"
        },
        {
          "output_type": "display_data",
          "data": {
            "image/png": "[encoded data removed]",
            "text/plain": [
              "<Figure size 540x288 with 10 Axes>"
            ]
          },
          "metadata": {
            "tags": []
          }
        }
      ]
    },
    {
      "cell_type": "markdown",
      "metadata": {
        "id": "l5_1mu-Q09ur",
        "colab_type": "text"
      },
      "source": [
        "## Task 1: Encoder (10 pt)\n",
        "The encoder network produces the parameters of the variational distribution (Slide 102). \n",
        "In our case, the variational distribution $q_{\\boldsymbol{\\phi}^{(i)}}(\\mathbf{z}^{(i)})$ is multivariate normal with diagonal covariance, so we encoder needs to produce its mean and the (diagonal of the) covariance matrix.\n",
        "The encoder has the following architecture\n",
        "<img src=\"img/encoder.png\" alt=\"Encoder\" style=\"width: 200px;\"/>\n",
        "The encoder produces the parameters $\\boldsymbol{\\mu}^{(i)} \\in \\mathbb{R}^L$ and $\\log \\boldsymbol{\\sigma}^{(i)} \\in \\mathbb{R}^L$ for each sample $i$ in the mini batch. \n",
        "Note that $\\log \\boldsymbol{\\sigma}^{(i)}$ can be negative, we convert it into a diagonal positive-definite covariance matrix as $\\boldsymbol{\\Sigma}^{(i)} = \\operatorname{diag}(\\exp(\\log \\boldsymbol{\\sigma}^{(i)}))^2)$"
      ]
    },
    {
      "cell_type": "markdown",
      "metadata": {
        "id": "-FQRTUju09us",
        "colab_type": "text"
      },
      "source": [
        "## Task 2: Reparametrization sampling (10 pt)\n",
        "Given the parameters $\\boldsymbol{\\mu}^{(i)}$ and $\\log \\boldsymbol{\\sigma}^{(i)}$ of the variational distribution, we need to generate samples $\\mathbf{z}^{(i)} \\sim q_{\\boldsymbol{\\phi}^{(i)}}(\\mathbf{z}^{(i)}) = \\mathcal{N}(\\mathbf{z}^{(i)} | \\boldsymbol{\\mu}^{(i)}, \\boldsymbol{\\Sigma}^{(i)})$ to estimate the ELBO. \n",
        "We draw one sample $\\mathbf{z}^{(i)}$ for each instance $i$ in the mini-batch (Slide 104).\n",
        "It's important to draw samples using reparametrization here, so that it's possible to obtain gradient w.r.t. the parameters of the encoder.\n",
        "\n",
        "Functions `torch.normal` or `torch.Tensor.normal_` might be useful here."
      ]
    },
    {
      "cell_type": "markdown",
      "metadata": {
        "id": "NgYN6zOW09ut",
        "colab_type": "text"
      },
      "source": [
        "## Task 3: Decoder (10 pt)\n",
        "The decoder takes the samples $\\mathbf{z}^{(i)}$ and produces the parameters $\\boldsymbol{\\theta}^{(i)} \\in \\mathbb{R}^D$ of the data likelihood $p_{\\boldsymbol{\\theta}^{(i)}}(\\mathbf{x}^{(i)}|\\mathbf{z}^{(i)})$.\n",
        "We use the following simple architecture for the decoder\n",
        "\n",
        "<img src=\"img/decoder.png\" alt=\"Decoder\" style=\"width: 150px;\"/>\n",
        "\n",
        "Our data $\\mathbf{x}^{(i)} \\in \\{0, 1\\}^D$ is binary, so we use Bernoulli likelihood (Slide 95)\n",
        "$$p_{\\boldsymbol{\\theta}^{(i)}}(\\mathbf{x}^{(i)}|\\mathbf{z}^{(i)}) = \\prod_{j=1}^D \\left(\\theta_{j}^{(i)}\\right)^{x_{j}^{(i)}} \\left(1 - \\theta_{j}^{(i)}\\right)^{1 - x_{j}^{(i)}}$$\n",
        "Recall that the **negative log-likelihood** of the Bernoulli model is also called binary cross entropy.\n",
        "\n",
        "The parameters $\\theta_{j}^{(i)}$ must be in $(0, 1)$, which we enforce using the sigmoid function."
      ]
    },
    {
      "cell_type": "markdown",
      "metadata": {
        "id": "eQqLP5HW09uv",
        "colab_type": "text"
      },
      "source": [
        "## Task 4: KL divergence (5 pt)\n",
        "To compute the ELBO, we will need to compute the KL divergence. \n",
        "$$\\mathbb{KL}(q_{\\boldsymbol{\\phi}^{(i)}}(\\mathbf{z}^{(i)}) || p(\\mathbf{z}^{(i)}))$$\n",
        "Where $p(\\mathbf{z}^{(i)})$ is the standard L-dimensional normal distribution (zero mean, identity covariance).\n",
        "This can be done in closed form (Slide 99)."
      ]
    },
    {
      "cell_type": "markdown",
      "metadata": {
        "id": "1of98ebl09uw",
        "colab_type": "text"
      },
      "source": [
        "## Task 5: ELBO (15 pt)\n",
        "Finally, we can compute the ELBO using all the methods that we implemented above.\n",
        "ELBO for a single sample $\\mathbf{x}^{(i)} \\in \\{0, 1\\}^D$ is computed as\n",
        "$$\\mathcal{L}_i(\\boldsymbol{\\psi}, \\boldsymbol{\\lambda}) = \\mathbb{E}_{\\mathbf{z}^{(i)} \\sim q_{\\boldsymbol{\\phi}^{(i)}} (\\mathbf{z}^{(i)})}\\left[\\log p_{\\boldsymbol{\\theta}^{(i)}}(\\mathbf{x}^{(i)} | \\mathbf{z}^{(i)})\\right] - \\mathbb{KL}(q_{\\boldsymbol{\\phi}^{(i)}}(\\mathbf{z}^{(i)}) || p(\\mathbf{z}))$$\n",
        "\n",
        "In practice it's more efficient to compute the ELBO for a minibatch $\\mathcal{B}$ of samples \n",
        "$$\\mathcal{L}(\\boldsymbol{\\psi}, \\boldsymbol{\\lambda}) = \\frac{1}{|\\mathcal{B}|} \\sum_{\\mathbf{x}^{(i)} \\in \\mathcal{B}} \\mathcal{L}_i(\\boldsymbol{\\psi}, \\boldsymbol{\\lambda})$$\n",
        "where the variational parameters $\\boldsymbol{\\phi}^{(i)}$ are produced by the **encoder network** $f_{\\boldsymbol{\\psi}}$ (i.e. $\\boldsymbol{\\phi}^{(i)} = f_{\\boldsymbol{\\psi}}(\\mathbf{x}^{(i)})$),\n",
        "and the likelihood parameters $\\boldsymbol{\\theta}^{(i)}$ are produced by the **decoder network** $g_{\\boldsymbol{\\lambda}}$ (i.e. $\\boldsymbol{\\theta}^{(i)} = g_{\\boldsymbol{\\lambda}}(\\mathbf{x}^{(i)})$).\n",
        "\n",
        "Overview of this procedure is provided on Slide 103."
      ]
    },
    {
      "cell_type": "markdown",
      "metadata": {
        "id": "c0lTWnYR09uy",
        "colab_type": "text"
      },
      "source": [
        "## Task 6: Generating new data (10 pt)\n",
        "We can generate new samples using the procedure described on Slide 108.\n",
        "Function `torch.bernoulli` might be useful here."
      ]
    },
    {
      "cell_type": "code",
      "metadata": {
        "id": "y3xOU5bn09uz",
        "colab_type": "code",
        "colab": {}
      },
      "source": [
        "class VAE(nn.Module):\n",
        "    def __init__(self, obs_dim, latent_dim, hidden_dim=100):\n",
        "        \"\"\"Initialize the VAE model.\n",
        "        \n",
        "        Args:\n",
        "            obs_dim: Dimension of the observed data x, int\n",
        "            latent_dim: Dimension of the latent variable z, int\n",
        "            hidden_dim: Hidden dimension of the encoder/decoder networks, int\n",
        "        \"\"\"\n",
        "        super().__init__()\n",
        "        self.latent_dim = latent_dim\n",
        "        # Trainable layers of the encoder\n",
        "        self.linear1 = nn.Linear(obs_dim, hidden_dim)\n",
        "        self.linear21 = nn.Linear(hidden_dim, latent_dim)\n",
        "        self.linear22 = nn.Linear(hidden_dim, latent_dim)\n",
        "        # Trainable layers of the decoder\n",
        "        self.linear3 = nn.Linear(latent_dim, hidden_dim)\n",
        "        self.linear4 = nn.Linear(hidden_dim, obs_dim)\n",
        "    \n",
        "    def encoder(self, x):\n",
        "        \"\"\"Obtain the parameters of q(z) for a batch of data points.\n",
        "        \n",
        "        Args:\n",
        "            x: Batch of data points, shape [batch_size, obs_dim]\n",
        "        \n",
        "        Returns:\n",
        "            mu: Means of q(z), shape [batch_size, latent_dim]\n",
        "            logsigma: Log-sigmas of q(z), shape [batch_size, latent_dim]\n",
        "        \"\"\"\n",
        "        ##########################################################\n",
        "        # YOUR CODE HERE        \n",
        "\n",
        "        hidden_vector = self.linear1(x)\n",
        "        hidden_vector2 = nn.ReLU()(hidden_vector)\n",
        "\n",
        "        mu = self.linear21(hidden_vector2)\n",
        "        logsigma = self.linear22(hidden_vector2)\n",
        "        \n",
        "        return mu,logsigma       \n",
        "\n",
        "        \n",
        "        ##########################################################\n",
        "    \n",
        "    def sample_with_reparam(self, mu, logsigma):\n",
        "        \"\"\"Draw sample from q(z) with reparametrization.\n",
        "        \n",
        "        We draw a single sample z_i for each data point x_i.\n",
        "        \n",
        "        Args:\n",
        "            mu: Means of q(z) for the batch, shape [batch_size, latent_dim]\n",
        "            logsigma: Log-sigmas of q(z) for the batch, shape [batch_size, latent_dim]\n",
        "        \n",
        "        Returns:\n",
        "            z: Latent variables samples from q(z), shape [batch_size, latent_dim]\n",
        "        \"\"\"\n",
        "        ##########################################################\n",
        "        # YOUR CODE HERE\n",
        "        \n",
        "        batch_size = mu.shape[0]\n",
        "        z = torch.empty(batch_size,self.latent_dim)\n",
        "        z = z.type(torch.cuda.FloatTensor)\n",
        "        epsilon = torch.empty(self.latent_dim)\n",
        "        epsilon = epsilon.type(torch.cuda.FloatTensor)\n",
        "        \n",
        "        for i in range(batch_size):\n",
        "            epsilon = torch.normal(mean=torch.zeros(self.latent_dim).to(device),std=torch.ones(self.latent_dim).to(device)) \n",
        "            z[i] = epsilon * torch.exp(logsigma[i]) + mu[i]\n",
        "        \n",
        "        return z\n",
        "\n",
        "        \n",
        "        ##########################################################\n",
        "    \n",
        "    def decoder(self, z):\n",
        "        \"\"\"Convert sampled latent variables z into observations x.\n",
        "        \n",
        "        Args:\n",
        "            z: Sampled latent variables, shape [batch_size, latent_dim]\n",
        "        \n",
        "        Returns:\n",
        "            theta: Parameters of the conditional likelihood, shape [batch_size, obs_dim]\n",
        "        \"\"\"\n",
        "        ##########################################################\n",
        "        # YOUR CODE HERE\n",
        "        \n",
        "        hidden_vector1 = self.linear3(z)\n",
        "        hidden_vector2 = nn.ReLU()(hidden_vector1)\n",
        "        hidden_vector3 = self.linear4(hidden_vector2)\n",
        "        theta = nn.Sigmoid()(hidden_vector3)\n",
        "        \n",
        "        return theta\n",
        "\n",
        "        ##########################################################\n",
        "    \n",
        "    def kl_divergence(self, mu, logsigma):\n",
        "        \"\"\"Compute KL divergence KL(q_i(z)||p(z)) for each q_i in the batch.\n",
        "        \n",
        "        Args:\n",
        "            mu: Means of the q_i distributions, shape [batch_size, latent_dim]\n",
        "            logsigma: Logarithm of standard deviations of the q_i distributions,\n",
        "                      shape [batch_size, latent_dim]\n",
        "        \n",
        "        Returns:\n",
        "            kl: KL divergence for each of the q_i distributions, shape [batch_size]\n",
        "        \"\"\"\n",
        "        ##########################################################\n",
        "        # YOUR CODE HERE        \n",
        "        \n",
        "        sigma = torch.exp(logsigma).to(device)\n",
        "        sigma2 = sigma**2\n",
        "        sigma2 = sigma2.type(torch.cuda.FloatTensor)\n",
        "        batch_size = mu.shape[0]\n",
        "        kl = torch.empty(batch_size)\n",
        "        kl = kl.type(torch.cuda.FloatTensor)\n",
        "        for i in range(batch_size):\n",
        "            kl[i] =  0.5 * (torch.sum(sigma2[i]) + torch.sum(mu[i]**2) \n",
        "                             - torch.sum(torch.log(sigma2[i])) - self.latent_dim)\n",
        "        \n",
        "        return kl\n",
        "\n",
        "        ##########################################################\n",
        "    \n",
        "    def elbo(self, x):\n",
        "        \"\"\"Estimate the ELBO for the mini-batch of data.\n",
        "        \n",
        "        Args:\n",
        "            x: Mini-batch of the observations, shape [batch_size, obs_dim]\n",
        "        \n",
        "        Returns:\n",
        "            elbo_mc: MC estimate of ELBO for each sample in the mini-batch, shape [batch_size]\n",
        "        \"\"\"\n",
        "        ##########################################################\n",
        "        # YOUR CODE HERE\n",
        "\n",
        "        mu, logsigma = self.encoder(x)\n",
        "        z = self.sample_with_reparam(mu, logsigma)\n",
        "        theta = self.decoder(z)\n",
        "        kl = self.kl_divergence(mu, logsigma)\n",
        "        \n",
        "        batch_size = kl.shape[0]\n",
        "        obsn_dim = x.shape[1]\n",
        "        \n",
        "        #Pre-Defining to CUDA Memory\n",
        "        elbo_mc = torch.empty(batch_size)\n",
        "        elbo_mc = elbo_mc.type(torch.cuda.FloatTensor)        \n",
        "        \n",
        "        \n",
        "        # Sampling from reconstructed distribution with mean theta and variance=1\n",
        "        #xtilda = torch.randn(batch_size,obsn_dim).to(device) + theta\n",
        "            \n",
        "        for i in range(batch_size):   \n",
        "            elbo_mc[i] = -F.binary_cross_entropy(theta[i], x[i], reduction = 'sum') - kl[i]\n",
        "    \n",
        "        \n",
        "        return elbo_mc\n",
        "        \n",
        "        ##########################################################\n",
        "        \n",
        "    def sample(self, num_samples):\n",
        "        \"\"\"Generate samples from the model.\n",
        "        \n",
        "        Args:\n",
        "            num_samples: Number of samples to generate.\n",
        "        \n",
        "        Returns:\n",
        "            x: Samples generated by the model, shape [num_samples, obs_dim]\n",
        "        \"\"\"\n",
        "        ##########################################################\n",
        "        # YOUR CODE HERE\n",
        "        \n",
        "        latent_samples = torch.randn(num_samples,self.latent_dim).to(device)\n",
        "        theta = self.decoder(latent_samples)\n",
        "        \n",
        "        x = torch.zeros(theta.shape[0],theta.shape[1]).to(device)\n",
        "        for i in range(num_samples):\n",
        "          x[i] = torch.bernoulli(theta[i])\n",
        "        \n",
        "        return x       \n",
        "        \n",
        "        ##########################################################"
      ],
      "execution_count": 0,
      "outputs": []
    },
    {
      "cell_type": "code",
      "metadata": {
        "id": "bjPwNSlc09u5",
        "colab_type": "code",
        "colab": {}
      },
      "source": [
        "obs_dim = 784  # MNIST images are of shape [1, 28, 28]\n",
        "latent_dim = 32  # Size of the latent variable z\n",
        "hidden_dim = 400  # Size of the hidden layer in the encoder / decoder\n",
        "\n",
        "vae = VAE(obs_dim, latent_dim, hidden_dim).to(device)\n",
        "opt = torch.optim.Adam(vae.parameters(), lr=1e-3)"
      ],
      "execution_count": 0,
      "outputs": []
    },
    {
      "cell_type": "code",
      "metadata": {
        "scrolled": false,
        "id": "42zOUrNs09u_",
        "colab_type": "code",
        "colab": {
          "base_uri": "https://localhost:8080/",
          "height": 505
        },
        "outputId": "6485da5f-5d82-4eae-9ed0-d0e690d2d5e0"
      },
      "source": [
        "max_epochs = 5\n",
        "display_step = 100\n",
        "for epoch in range(max_epochs):\n",
        "    print(f'Epoch {epoch}')\n",
        "    for ix, batch in enumerate(train_loader):\n",
        "        x, y = batch\n",
        "        x = x.view(x.shape[0], obs_dim).to(device)  # we flatten the image into 1D array\n",
        "        opt.zero_grad()\n",
        "        # We want to maximize the ELBO, so we minimize the negative ELBO\n",
        "        loss = -vae.elbo(x).mean(-1)\n",
        "        loss.backward()\n",
        "        opt.step()\n",
        "        \n",
        "        if ix % display_step == 0:\n",
        "            print(f'  loss = {loss.item():.2f}')"
      ],
      "execution_count": 6,
      "outputs": [
        {
          "output_type": "stream",
          "text": [
            "Epoch 0\n",
            "  loss = 547.80\n",
            "  loss = 196.33\n",
            "  loss = 153.99\n",
            "  loss = 148.31\n",
            "  loss = 141.58\n",
            "Epoch 1\n",
            "  loss = 134.85\n",
            "  loss = 131.62\n",
            "  loss = 123.86\n",
            "  loss = 125.18\n",
            "  loss = 123.28\n",
            "Epoch 2\n",
            "  loss = 121.15\n",
            "  loss = 117.07\n",
            "  loss = 114.79\n",
            "  loss = 115.24\n",
            "  loss = 115.94\n",
            "Epoch 3\n",
            "  loss = 114.83\n",
            "  loss = 114.74\n",
            "  loss = 108.80\n",
            "  loss = 111.34\n",
            "  loss = 109.73\n",
            "Epoch 4\n",
            "  loss = 110.68\n",
            "  loss = 111.64\n",
            "  loss = 108.76\n",
            "  loss = 109.91\n",
            "  loss = 108.92\n"
          ],
          "name": "stdout"
        }
      ]
    },
    {
      "cell_type": "markdown",
      "metadata": {
        "id": "DkDVzhlv09vG",
        "colab_type": "text"
      },
      "source": [
        "### Visualize samples generated by the model"
      ]
    },
    {
      "cell_type": "code",
      "metadata": {
        "id": "vTwxx_vM09vH",
        "colab_type": "code",
        "colab": {
          "base_uri": "https://localhost:8080/",
          "height": 277
        },
        "outputId": "e520a843-7583-46e5-f6d9-3443300bf691"
      },
      "source": [
        "x = vae.sample(10).view(-1, 28, 28).detach().cpu().numpy()\n",
        "vae_utils.visualize_vae_samples(x)"
      ],
      "execution_count": 17,
      "outputs": [
        {
          "output_type": "display_data",
          "data": {
            "image/png": "[encoded data removed]",
            "text/plain": [
              "<Figure size 540x288 with 10 Axes>"
            ]
          },
          "metadata": {
            "tags": []
          }
        }
      ]
    },
    {
      "cell_type": "markdown",
      "metadata": {
        "id": "zRCl08ic09vN",
        "colab_type": "text"
      },
      "source": [
        "While the images here look somewhat similar to the training data and it's possible to discern the shapes of different digits, the sampels are not visually coherent.\n",
        "You might need to run the above cell several times to obtain images that look decent.\n",
        "\n",
        "It's possible to obtain images that look a lot better by using more \n",
        "powerful encoders & decoders (see `nn.Conv2d` and `nn.ConvTranspose2d`).\n",
        "However, training such models is slower, unless you have a good GPU."
      ]
    },
    {
      "cell_type": "markdown",
      "metadata": {
        "id": "moHF-RdP09vP",
        "colab_type": "text"
      },
      "source": [
        "### Visualize the embeddings produced by the model\n",
        "Here, we visualize the embeddings learned by the encoder using the following procedure\n",
        "1. Take a mini-batch `x` (shape `[batch_size, obs_dim]`)\n",
        "2. Pass `x` through the encoder \n",
        "```\n",
        "mu, logsigma = vae.encoder(x)\n",
        "```\n",
        "3. Visualize the mean `mu` for each sample using t-SNE."
      ]
    },
    {
      "cell_type": "code",
      "metadata": {
        "scrolled": false,
        "id": "Ce2LRdbU09vQ",
        "colab_type": "code",
        "colab": {},
        "outputId": "3309795e-a377-4a0d-9f33-87b3182dbda5"
      },
      "source": [
        "x, y = next(iter(test_loader))\n",
        "x = x.view(x.shape[0], obs_dim).to(device)\n",
        "plt.figure(figsize=[10, 7])\n",
        "vae_utils.visualize_embeddings(vae, x, y)"
      ],
      "execution_count": 0,
      "outputs": [
        {
          "output_type": "display_data",
          "data": {
            "text/plain": [
              "<Figure size 720x504 with 0 Axes>"
            ]
          },
          "metadata": {
            "tags": []
          }
        },
        {
          "output_type": "display_data",
          "data": {
            "image/png": "[encoded data removed]",
            "text/plain": [
              "<Figure size 720x504 with 1 Axes>"
            ]
          },
          "metadata": {
            "tags": []
          }
        }
      ]
    },
    {
      "cell_type": "markdown",
      "metadata": {
        "id": "oUvIORdv09vV",
        "colab_type": "text"
      },
      "source": [
        "As we can see, the encoder learned to assign similar means to the images that belong to the same class. That means, if two samples $x_i$ and $x_j$ belong to the same class, the means $\\mu_i$ and $\\mu_j$ of their variational distributions $q_i(z_i)$ and $q_j(z_j)$ are nearby, so $z_i$ and $z_j$ will likely be close as well."
      ]
    }
  ]
}